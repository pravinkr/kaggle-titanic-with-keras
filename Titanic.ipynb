{
  "nbformat": 4,
  "nbformat_minor": 0,
  "metadata": {
    "colab": {
      "name": "Titanic.ipynb",
      "provenance": [],
      "collapsed_sections": [
        "ik9pEA4EAxju",
        "-QAoNYtkBFg4",
        "fECat8HYvzOW",
        "9HDdOx25BWJ_",
        "80rpGU6sCTd6"
      ],
      "toc_visible": true,
      "mount_file_id": "11Kn1wzxJXvFZfuWPjnYuRYCUGi6NwK2Q",
      "authorship_tag": "ABX9TyNpUP6KIeovJQ7E1h2qO3GP",
      "include_colab_link": true
    },
    "kernelspec": {
      "name": "python3",
      "display_name": "Python 3"
    }
  },
  "cells": [
    {
      "cell_type": "markdown",
      "metadata": {
        "id": "view-in-github",
        "colab_type": "text"
      },
      "source": [
        "<a href=\"https://colab.research.google.com/github/pravinkr/kaggle-titanic-with-keras/blob/main/Titanic.ipynb\" target=\"_parent\"><img src=\"https://colab.research.google.com/assets/colab-badge.svg\" alt=\"Open In Colab\"/></a>"
      ]
    },
    {
      "cell_type": "code",
      "metadata": {
        "id": "qwgAMawU8i9D"
      },
      "source": [
        "import pandas as pd\n",
        "import numpy as np\n",
        "import matplotlib.pyplot as plt\n",
        "import seaborn as sns"
      ],
      "execution_count": null,
      "outputs": []
    },
    {
      "cell_type": "markdown",
      "metadata": {
        "id": "rkiJSd43osyJ"
      },
      "source": [
        ""
      ]
    },
    {
      "cell_type": "code",
      "metadata": {
        "id": "qVCITowm8qDF"
      },
      "source": [
        "train_file = './train.csv'\n",
        "#train_file = './titanic-train-test.csv'\n",
        "#test_file = './test.csv'\n",
        "test_file = './test-with-labels.csv'\n",
        "\n",
        "df = pd.read_csv(train_file)\n",
        "df_test = pd.read_csv(test_file)\n",
        "\n",
        "#df = df_train.append(df_test)\n"
      ],
      "execution_count": null,
      "outputs": []
    },
    {
      "cell_type": "code",
      "metadata": {
        "id": "va8K--aUMT8U",
        "colab": {
          "base_uri": "https://localhost:8080/",
          "height": 68
        },
        "outputId": "bcc8039f-ecca-4e1d-974c-284d00399ec1"
      },
      "source": [
        "df_test.columns"
      ],
      "execution_count": null,
      "outputs": [
        {
          "output_type": "execute_result",
          "data": {
            "text/plain": [
              "Index(['PassengerId', 'Survived', 'Pclass', 'Name', 'Sex', 'Age', 'SibSp',\n",
              "       'Parch', 'Ticket', 'Fare', 'Cabin', 'Embarked'],\n",
              "      dtype='object')"
            ]
          },
          "metadata": {
            "tags": []
          },
          "execution_count": 369
        }
      ]
    },
    {
      "cell_type": "code",
      "metadata": {
        "id": "qodx_98EL-08",
        "colab": {
          "base_uri": "https://localhost:8080/",
          "height": 68
        },
        "outputId": "40bf3cb9-5572-46e3-ed40-7c1065ff7c9d"
      },
      "source": [
        "df.columns"
      ],
      "execution_count": null,
      "outputs": [
        {
          "output_type": "execute_result",
          "data": {
            "text/plain": [
              "Index(['PassengerId', 'Survived', 'Pclass', 'Name', 'Sex', 'Age', 'SibSp',\n",
              "       'Parch', 'Ticket', 'Fare', 'Cabin', 'Embarked'],\n",
              "      dtype='object')"
            ]
          },
          "metadata": {
            "tags": []
          },
          "execution_count": 370
        }
      ]
    },
    {
      "cell_type": "markdown",
      "metadata": {
        "id": "h0e68XRj9u39"
      },
      "source": [
        "#Exploratory Data Analysis"
      ]
    },
    {
      "cell_type": "code",
      "metadata": {
        "id": "_0u4UXZ19Mi2",
        "colab": {
          "base_uri": "https://localhost:8080/"
        },
        "outputId": "33fbd1bb-be0a-40e8-a21a-dddca40be597"
      },
      "source": [
        "df.describe().transpose()"
      ],
      "execution_count": null,
      "outputs": [
        {
          "output_type": "execute_result",
          "data": {
            "text/html": [
              "<div>\n",
              "<style scoped>\n",
              "    .dataframe tbody tr th:only-of-type {\n",
              "        vertical-align: middle;\n",
              "    }\n",
              "\n",
              "    .dataframe tbody tr th {\n",
              "        vertical-align: top;\n",
              "    }\n",
              "\n",
              "    .dataframe thead th {\n",
              "        text-align: right;\n",
              "    }\n",
              "</style>\n",
              "<table border=\"1\" class=\"dataframe\">\n",
              "  <thead>\n",
              "    <tr style=\"text-align: right;\">\n",
              "      <th></th>\n",
              "      <th>count</th>\n",
              "      <th>mean</th>\n",
              "      <th>std</th>\n",
              "      <th>min</th>\n",
              "      <th>25%</th>\n",
              "      <th>50%</th>\n",
              "      <th>75%</th>\n",
              "      <th>max</th>\n",
              "    </tr>\n",
              "  </thead>\n",
              "  <tbody>\n",
              "    <tr>\n",
              "      <th>PassengerId</th>\n",
              "      <td>891.0</td>\n",
              "      <td>446.000000</td>\n",
              "      <td>257.353842</td>\n",
              "      <td>1.00</td>\n",
              "      <td>223.5000</td>\n",
              "      <td>446.0000</td>\n",
              "      <td>668.5</td>\n",
              "      <td>891.0000</td>\n",
              "    </tr>\n",
              "    <tr>\n",
              "      <th>Survived</th>\n",
              "      <td>891.0</td>\n",
              "      <td>0.383838</td>\n",
              "      <td>0.486592</td>\n",
              "      <td>0.00</td>\n",
              "      <td>0.0000</td>\n",
              "      <td>0.0000</td>\n",
              "      <td>1.0</td>\n",
              "      <td>1.0000</td>\n",
              "    </tr>\n",
              "    <tr>\n",
              "      <th>Pclass</th>\n",
              "      <td>891.0</td>\n",
              "      <td>2.308642</td>\n",
              "      <td>0.836071</td>\n",
              "      <td>1.00</td>\n",
              "      <td>2.0000</td>\n",
              "      <td>3.0000</td>\n",
              "      <td>3.0</td>\n",
              "      <td>3.0000</td>\n",
              "    </tr>\n",
              "    <tr>\n",
              "      <th>Age</th>\n",
              "      <td>714.0</td>\n",
              "      <td>29.699118</td>\n",
              "      <td>14.526497</td>\n",
              "      <td>0.42</td>\n",
              "      <td>20.1250</td>\n",
              "      <td>28.0000</td>\n",
              "      <td>38.0</td>\n",
              "      <td>80.0000</td>\n",
              "    </tr>\n",
              "    <tr>\n",
              "      <th>SibSp</th>\n",
              "      <td>891.0</td>\n",
              "      <td>0.523008</td>\n",
              "      <td>1.102743</td>\n",
              "      <td>0.00</td>\n",
              "      <td>0.0000</td>\n",
              "      <td>0.0000</td>\n",
              "      <td>1.0</td>\n",
              "      <td>8.0000</td>\n",
              "    </tr>\n",
              "    <tr>\n",
              "      <th>Parch</th>\n",
              "      <td>891.0</td>\n",
              "      <td>0.381594</td>\n",
              "      <td>0.806057</td>\n",
              "      <td>0.00</td>\n",
              "      <td>0.0000</td>\n",
              "      <td>0.0000</td>\n",
              "      <td>0.0</td>\n",
              "      <td>6.0000</td>\n",
              "    </tr>\n",
              "    <tr>\n",
              "      <th>Fare</th>\n",
              "      <td>891.0</td>\n",
              "      <td>32.204208</td>\n",
              "      <td>49.693429</td>\n",
              "      <td>0.00</td>\n",
              "      <td>7.9104</td>\n",
              "      <td>14.4542</td>\n",
              "      <td>31.0</td>\n",
              "      <td>512.3292</td>\n",
              "    </tr>\n",
              "  </tbody>\n",
              "</table>\n",
              "</div>"
            ],
            "text/plain": [
              "             count        mean         std  ...       50%    75%       max\n",
              "PassengerId  891.0  446.000000  257.353842  ...  446.0000  668.5  891.0000\n",
              "Survived     891.0    0.383838    0.486592  ...    0.0000    1.0    1.0000\n",
              "Pclass       891.0    2.308642    0.836071  ...    3.0000    3.0    3.0000\n",
              "Age          714.0   29.699118   14.526497  ...   28.0000   38.0   80.0000\n",
              "SibSp        891.0    0.523008    1.102743  ...    0.0000    1.0    8.0000\n",
              "Parch        891.0    0.381594    0.806057  ...    0.0000    0.0    6.0000\n",
              "Fare         891.0   32.204208   49.693429  ...   14.4542   31.0  512.3292\n",
              "\n",
              "[7 rows x 8 columns]"
            ]
          },
          "metadata": {
            "tags": []
          },
          "execution_count": 371
        }
      ]
    },
    {
      "cell_type": "code",
      "metadata": {
        "id": "YHdB6RdA9Pbr",
        "colab": {
          "base_uri": "https://localhost:8080/"
        },
        "outputId": "3e8f6307-1e84-4f6d-ce61-8c1a6a7bc8e0"
      },
      "source": [
        "df_test.describe().transpose()"
      ],
      "execution_count": null,
      "outputs": [
        {
          "output_type": "execute_result",
          "data": {
            "text/html": [
              "<div>\n",
              "<style scoped>\n",
              "    .dataframe tbody tr th:only-of-type {\n",
              "        vertical-align: middle;\n",
              "    }\n",
              "\n",
              "    .dataframe tbody tr th {\n",
              "        vertical-align: top;\n",
              "    }\n",
              "\n",
              "    .dataframe thead th {\n",
              "        text-align: right;\n",
              "    }\n",
              "</style>\n",
              "<table border=\"1\" class=\"dataframe\">\n",
              "  <thead>\n",
              "    <tr style=\"text-align: right;\">\n",
              "      <th></th>\n",
              "      <th>count</th>\n",
              "      <th>mean</th>\n",
              "      <th>std</th>\n",
              "      <th>min</th>\n",
              "      <th>25%</th>\n",
              "      <th>50%</th>\n",
              "      <th>75%</th>\n",
              "      <th>max</th>\n",
              "    </tr>\n",
              "  </thead>\n",
              "  <tbody>\n",
              "    <tr>\n",
              "      <th>PassengerId</th>\n",
              "      <td>418.0</td>\n",
              "      <td>1100.500000</td>\n",
              "      <td>120.810458</td>\n",
              "      <td>892.00</td>\n",
              "      <td>996.2500</td>\n",
              "      <td>1100.5000</td>\n",
              "      <td>1204.75</td>\n",
              "      <td>1309.0000</td>\n",
              "    </tr>\n",
              "    <tr>\n",
              "      <th>Survived</th>\n",
              "      <td>418.0</td>\n",
              "      <td>0.380383</td>\n",
              "      <td>0.486063</td>\n",
              "      <td>0.00</td>\n",
              "      <td>0.0000</td>\n",
              "      <td>0.0000</td>\n",
              "      <td>1.00</td>\n",
              "      <td>1.0000</td>\n",
              "    </tr>\n",
              "    <tr>\n",
              "      <th>Pclass</th>\n",
              "      <td>418.0</td>\n",
              "      <td>2.265550</td>\n",
              "      <td>0.841838</td>\n",
              "      <td>1.00</td>\n",
              "      <td>1.0000</td>\n",
              "      <td>3.0000</td>\n",
              "      <td>3.00</td>\n",
              "      <td>3.0000</td>\n",
              "    </tr>\n",
              "    <tr>\n",
              "      <th>Age</th>\n",
              "      <td>332.0</td>\n",
              "      <td>30.272590</td>\n",
              "      <td>14.181209</td>\n",
              "      <td>0.17</td>\n",
              "      <td>21.0000</td>\n",
              "      <td>27.0000</td>\n",
              "      <td>39.00</td>\n",
              "      <td>76.0000</td>\n",
              "    </tr>\n",
              "    <tr>\n",
              "      <th>SibSp</th>\n",
              "      <td>418.0</td>\n",
              "      <td>0.447368</td>\n",
              "      <td>0.896760</td>\n",
              "      <td>0.00</td>\n",
              "      <td>0.0000</td>\n",
              "      <td>0.0000</td>\n",
              "      <td>1.00</td>\n",
              "      <td>8.0000</td>\n",
              "    </tr>\n",
              "    <tr>\n",
              "      <th>Parch</th>\n",
              "      <td>418.0</td>\n",
              "      <td>0.392344</td>\n",
              "      <td>0.981429</td>\n",
              "      <td>0.00</td>\n",
              "      <td>0.0000</td>\n",
              "      <td>0.0000</td>\n",
              "      <td>0.00</td>\n",
              "      <td>9.0000</td>\n",
              "    </tr>\n",
              "    <tr>\n",
              "      <th>Fare</th>\n",
              "      <td>417.0</td>\n",
              "      <td>35.627188</td>\n",
              "      <td>55.907576</td>\n",
              "      <td>0.00</td>\n",
              "      <td>7.8958</td>\n",
              "      <td>14.4542</td>\n",
              "      <td>31.50</td>\n",
              "      <td>512.3292</td>\n",
              "    </tr>\n",
              "  </tbody>\n",
              "</table>\n",
              "</div>"
            ],
            "text/plain": [
              "             count         mean         std  ...        50%      75%        max\n",
              "PassengerId  418.0  1100.500000  120.810458  ...  1100.5000  1204.75  1309.0000\n",
              "Survived     418.0     0.380383    0.486063  ...     0.0000     1.00     1.0000\n",
              "Pclass       418.0     2.265550    0.841838  ...     3.0000     3.00     3.0000\n",
              "Age          332.0    30.272590   14.181209  ...    27.0000    39.00    76.0000\n",
              "SibSp        418.0     0.447368    0.896760  ...     0.0000     1.00     8.0000\n",
              "Parch        418.0     0.392344    0.981429  ...     0.0000     0.00     9.0000\n",
              "Fare         417.0    35.627188   55.907576  ...    14.4542    31.50   512.3292\n",
              "\n",
              "[7 rows x 8 columns]"
            ]
          },
          "metadata": {
            "tags": []
          },
          "execution_count": 372
        }
      ]
    },
    {
      "cell_type": "code",
      "metadata": {
        "id": "GCQMnm5t9Ppw",
        "colab": {
          "base_uri": "https://localhost:8080/"
        },
        "outputId": "0788fb07-b989-46ce-ca55-ba50494f648c"
      },
      "source": [
        "df.head()"
      ],
      "execution_count": null,
      "outputs": [
        {
          "output_type": "execute_result",
          "data": {
            "text/html": [
              "<div>\n",
              "<style scoped>\n",
              "    .dataframe tbody tr th:only-of-type {\n",
              "        vertical-align: middle;\n",
              "    }\n",
              "\n",
              "    .dataframe tbody tr th {\n",
              "        vertical-align: top;\n",
              "    }\n",
              "\n",
              "    .dataframe thead th {\n",
              "        text-align: right;\n",
              "    }\n",
              "</style>\n",
              "<table border=\"1\" class=\"dataframe\">\n",
              "  <thead>\n",
              "    <tr style=\"text-align: right;\">\n",
              "      <th></th>\n",
              "      <th>PassengerId</th>\n",
              "      <th>Survived</th>\n",
              "      <th>Pclass</th>\n",
              "      <th>Name</th>\n",
              "      <th>Sex</th>\n",
              "      <th>Age</th>\n",
              "      <th>SibSp</th>\n",
              "      <th>Parch</th>\n",
              "      <th>Ticket</th>\n",
              "      <th>Fare</th>\n",
              "      <th>Cabin</th>\n",
              "      <th>Embarked</th>\n",
              "    </tr>\n",
              "  </thead>\n",
              "  <tbody>\n",
              "    <tr>\n",
              "      <th>0</th>\n",
              "      <td>1</td>\n",
              "      <td>0</td>\n",
              "      <td>3</td>\n",
              "      <td>Braund, Mr. Owen Harris</td>\n",
              "      <td>male</td>\n",
              "      <td>22.0</td>\n",
              "      <td>1</td>\n",
              "      <td>0</td>\n",
              "      <td>A/5 21171</td>\n",
              "      <td>7.2500</td>\n",
              "      <td>NaN</td>\n",
              "      <td>S</td>\n",
              "    </tr>\n",
              "    <tr>\n",
              "      <th>1</th>\n",
              "      <td>2</td>\n",
              "      <td>1</td>\n",
              "      <td>1</td>\n",
              "      <td>Cumings, Mrs. John Bradley (Florence Briggs Th...</td>\n",
              "      <td>female</td>\n",
              "      <td>38.0</td>\n",
              "      <td>1</td>\n",
              "      <td>0</td>\n",
              "      <td>PC 17599</td>\n",
              "      <td>71.2833</td>\n",
              "      <td>C85</td>\n",
              "      <td>C</td>\n",
              "    </tr>\n",
              "    <tr>\n",
              "      <th>2</th>\n",
              "      <td>3</td>\n",
              "      <td>1</td>\n",
              "      <td>3</td>\n",
              "      <td>Heikkinen, Miss. Laina</td>\n",
              "      <td>female</td>\n",
              "      <td>26.0</td>\n",
              "      <td>0</td>\n",
              "      <td>0</td>\n",
              "      <td>STON/O2. 3101282</td>\n",
              "      <td>7.9250</td>\n",
              "      <td>NaN</td>\n",
              "      <td>S</td>\n",
              "    </tr>\n",
              "    <tr>\n",
              "      <th>3</th>\n",
              "      <td>4</td>\n",
              "      <td>1</td>\n",
              "      <td>1</td>\n",
              "      <td>Futrelle, Mrs. Jacques Heath (Lily May Peel)</td>\n",
              "      <td>female</td>\n",
              "      <td>35.0</td>\n",
              "      <td>1</td>\n",
              "      <td>0</td>\n",
              "      <td>113803</td>\n",
              "      <td>53.1000</td>\n",
              "      <td>C123</td>\n",
              "      <td>S</td>\n",
              "    </tr>\n",
              "    <tr>\n",
              "      <th>4</th>\n",
              "      <td>5</td>\n",
              "      <td>0</td>\n",
              "      <td>3</td>\n",
              "      <td>Allen, Mr. William Henry</td>\n",
              "      <td>male</td>\n",
              "      <td>35.0</td>\n",
              "      <td>0</td>\n",
              "      <td>0</td>\n",
              "      <td>373450</td>\n",
              "      <td>8.0500</td>\n",
              "      <td>NaN</td>\n",
              "      <td>S</td>\n",
              "    </tr>\n",
              "  </tbody>\n",
              "</table>\n",
              "</div>"
            ],
            "text/plain": [
              "   PassengerId  Survived  Pclass  ...     Fare Cabin  Embarked\n",
              "0            1         0       3  ...   7.2500   NaN         S\n",
              "1            2         1       1  ...  71.2833   C85         C\n",
              "2            3         1       3  ...   7.9250   NaN         S\n",
              "3            4         1       1  ...  53.1000  C123         S\n",
              "4            5         0       3  ...   8.0500   NaN         S\n",
              "\n",
              "[5 rows x 12 columns]"
            ]
          },
          "metadata": {
            "tags": []
          },
          "execution_count": 373
        }
      ]
    },
    {
      "cell_type": "code",
      "metadata": {
        "id": "3E8zPLtoNHd8",
        "colab": {
          "base_uri": "https://localhost:8080/"
        },
        "outputId": "01008e7d-b200-413d-bc62-512a25e5cd3d"
      },
      "source": [
        "df[['PassengerId','Name']]"
      ],
      "execution_count": null,
      "outputs": [
        {
          "output_type": "execute_result",
          "data": {
            "text/html": [
              "<div>\n",
              "<style scoped>\n",
              "    .dataframe tbody tr th:only-of-type {\n",
              "        vertical-align: middle;\n",
              "    }\n",
              "\n",
              "    .dataframe tbody tr th {\n",
              "        vertical-align: top;\n",
              "    }\n",
              "\n",
              "    .dataframe thead th {\n",
              "        text-align: right;\n",
              "    }\n",
              "</style>\n",
              "<table border=\"1\" class=\"dataframe\">\n",
              "  <thead>\n",
              "    <tr style=\"text-align: right;\">\n",
              "      <th></th>\n",
              "      <th>PassengerId</th>\n",
              "      <th>Name</th>\n",
              "    </tr>\n",
              "  </thead>\n",
              "  <tbody>\n",
              "    <tr>\n",
              "      <th>0</th>\n",
              "      <td>1</td>\n",
              "      <td>Braund, Mr. Owen Harris</td>\n",
              "    </tr>\n",
              "    <tr>\n",
              "      <th>1</th>\n",
              "      <td>2</td>\n",
              "      <td>Cumings, Mrs. John Bradley (Florence Briggs Th...</td>\n",
              "    </tr>\n",
              "    <tr>\n",
              "      <th>2</th>\n",
              "      <td>3</td>\n",
              "      <td>Heikkinen, Miss. Laina</td>\n",
              "    </tr>\n",
              "    <tr>\n",
              "      <th>3</th>\n",
              "      <td>4</td>\n",
              "      <td>Futrelle, Mrs. Jacques Heath (Lily May Peel)</td>\n",
              "    </tr>\n",
              "    <tr>\n",
              "      <th>4</th>\n",
              "      <td>5</td>\n",
              "      <td>Allen, Mr. William Henry</td>\n",
              "    </tr>\n",
              "    <tr>\n",
              "      <th>...</th>\n",
              "      <td>...</td>\n",
              "      <td>...</td>\n",
              "    </tr>\n",
              "    <tr>\n",
              "      <th>886</th>\n",
              "      <td>887</td>\n",
              "      <td>Montvila, Rev. Juozas</td>\n",
              "    </tr>\n",
              "    <tr>\n",
              "      <th>887</th>\n",
              "      <td>888</td>\n",
              "      <td>Graham, Miss. Margaret Edith</td>\n",
              "    </tr>\n",
              "    <tr>\n",
              "      <th>888</th>\n",
              "      <td>889</td>\n",
              "      <td>Johnston, Miss. Catherine Helen \"Carrie\"</td>\n",
              "    </tr>\n",
              "    <tr>\n",
              "      <th>889</th>\n",
              "      <td>890</td>\n",
              "      <td>Behr, Mr. Karl Howell</td>\n",
              "    </tr>\n",
              "    <tr>\n",
              "      <th>890</th>\n",
              "      <td>891</td>\n",
              "      <td>Dooley, Mr. Patrick</td>\n",
              "    </tr>\n",
              "  </tbody>\n",
              "</table>\n",
              "<p>891 rows × 2 columns</p>\n",
              "</div>"
            ],
            "text/plain": [
              "     PassengerId                                               Name\n",
              "0              1                            Braund, Mr. Owen Harris\n",
              "1              2  Cumings, Mrs. John Bradley (Florence Briggs Th...\n",
              "2              3                             Heikkinen, Miss. Laina\n",
              "3              4       Futrelle, Mrs. Jacques Heath (Lily May Peel)\n",
              "4              5                           Allen, Mr. William Henry\n",
              "..           ...                                                ...\n",
              "886          887                              Montvila, Rev. Juozas\n",
              "887          888                       Graham, Miss. Margaret Edith\n",
              "888          889           Johnston, Miss. Catherine Helen \"Carrie\"\n",
              "889          890                              Behr, Mr. Karl Howell\n",
              "890          891                                Dooley, Mr. Patrick\n",
              "\n",
              "[891 rows x 2 columns]"
            ]
          },
          "metadata": {
            "tags": []
          },
          "execution_count": 374
        }
      ]
    },
    {
      "cell_type": "markdown",
      "metadata": {
        "id": "EuYE-E7U9z7t"
      },
      "source": [
        "**Countplot of Survived**"
      ]
    },
    {
      "cell_type": "code",
      "metadata": {
        "id": "YN36Mgo19ojw",
        "colab": {
          "base_uri": "https://localhost:8080/"
        },
        "outputId": "e9f991dd-7d5a-4f51-be9b-38460f8be78a"
      },
      "source": [
        "sns.countplot(df['Survived'])"
      ],
      "execution_count": null,
      "outputs": [
        {
          "output_type": "execute_result",
          "data": {
            "text/plain": [
              "<matplotlib.axes._subplots.AxesSubplot at 0x7fbe85d25d68>"
            ]
          },
          "metadata": {
            "tags": []
          },
          "execution_count": 375
        },
        {
          "output_type": "display_data",
          "data": {
            "image/png": "[encoded data removed]",
            "text/plain": [
              "<Figure size 432x288 with 1 Axes>"
            ]
          },
          "metadata": {
            "tags": [],
            "needs_background": "light"
          }
        }
      ]
    },
    {
      "cell_type": "code",
      "metadata": {
        "id": "lPF6uaRb9_z_",
        "colab": {
          "base_uri": "https://localhost:8080/"
        },
        "outputId": "021c1295-0e39-4a36-8778-4f94a516b937"
      },
      "source": [
        "df.columns"
      ],
      "execution_count": null,
      "outputs": [
        {
          "output_type": "execute_result",
          "data": {
            "text/plain": [
              "Index(['PassengerId', 'Survived', 'Pclass', 'Name', 'Sex', 'Age', 'SibSp',\n",
              "       'Parch', 'Ticket', 'Fare', 'Cabin', 'Embarked'],\n",
              "      dtype='object')"
            ]
          },
          "metadata": {
            "tags": []
          },
          "execution_count": 376
        }
      ]
    },
    {
      "cell_type": "code",
      "metadata": {
        "id": "jYLqtiz4-G4Z",
        "colab": {
          "base_uri": "https://localhost:8080/"
        },
        "outputId": "8b9dfa9e-108b-4736-cc26-2cc5b134fdc0"
      },
      "source": [
        "df.info()"
      ],
      "execution_count": null,
      "outputs": [
        {
          "output_type": "stream",
          "text": [
            "<class 'pandas.core.frame.DataFrame'>\n",
            "RangeIndex: 891 entries, 0 to 890\n",
            "Data columns (total 12 columns):\n",
            " #   Column       Non-Null Count  Dtype  \n",
            "---  ------       --------------  -----  \n",
            " 0   PassengerId  891 non-null    int64  \n",
            " 1   Survived     891 non-null    int64  \n",
            " 2   Pclass       891 non-null    int64  \n",
            " 3   Name         891 non-null    object \n",
            " 4   Sex          891 non-null    object \n",
            " 5   Age          714 non-null    float64\n",
            " 6   SibSp        891 non-null    int64  \n",
            " 7   Parch        891 non-null    int64  \n",
            " 8   Ticket       891 non-null    object \n",
            " 9   Fare         891 non-null    float64\n",
            " 10  Cabin        204 non-null    object \n",
            " 11  Embarked     889 non-null    object \n",
            "dtypes: float64(2), int64(5), object(5)\n",
            "memory usage: 83.7+ KB\n"
          ],
          "name": "stdout"
        }
      ]
    },
    {
      "cell_type": "code",
      "metadata": {
        "id": "-tqKAeuqGTzv",
        "colab": {
          "base_uri": "https://localhost:8080/"
        },
        "outputId": "f91ecd07-3c5d-48f7-8084-47883b91afab"
      },
      "source": [
        "df.isnull().sum()"
      ],
      "execution_count": null,
      "outputs": [
        {
          "output_type": "execute_result",
          "data": {
            "text/plain": [
              "PassengerId      0\n",
              "Survived         0\n",
              "Pclass           0\n",
              "Name             0\n",
              "Sex              0\n",
              "Age            177\n",
              "SibSp            0\n",
              "Parch            0\n",
              "Ticket           0\n",
              "Fare             0\n",
              "Cabin          687\n",
              "Embarked         2\n",
              "dtype: int64"
            ]
          },
          "metadata": {
            "tags": []
          },
          "execution_count": 378
        }
      ]
    },
    {
      "cell_type": "markdown",
      "metadata": {
        "id": "xP8zKnWC-Sgd"
      },
      "source": [
        "# **Analysis for Pclass**"
      ]
    },
    {
      "cell_type": "code",
      "metadata": {
        "id": "F1EKy2jq-KZw",
        "colab": {
          "base_uri": "https://localhost:8080/"
        },
        "outputId": "c9e6ef75-f21b-4b87-c245-482dfee7d107"
      },
      "source": [
        "df['Pclass'].unique()"
      ],
      "execution_count": null,
      "outputs": [
        {
          "output_type": "execute_result",
          "data": {
            "text/plain": [
              "array([3, 1, 2])"
            ]
          },
          "metadata": {
            "tags": []
          },
          "execution_count": 379
        }
      ]
    },
    {
      "cell_type": "code",
      "metadata": {
        "id": "gT3mpI5WOiIS",
        "colab": {
          "base_uri": "https://localhost:8080/"
        },
        "outputId": "14b62842-546c-4e83-bdaa-d6d1b2c14083"
      },
      "source": [
        "sns.countplot(df['Pclass'],hue=df['Survived'])"
      ],
      "execution_count": null,
      "outputs": [
        {
          "output_type": "execute_result",
          "data": {
            "text/plain": [
              "<matplotlib.axes._subplots.AxesSubplot at 0x7fbe86021128>"
            ]
          },
          "metadata": {
            "tags": []
          },
          "execution_count": 380
        },
        {
          "output_type": "display_data",
          "data": {
            "image/png": "[encoded data removed]",
            "text/plain": [
              "<Figure size 432x288 with 1 Axes>"
            ]
          },
          "metadata": {
            "tags": [],
            "needs_background": "light"
          }
        }
      ]
    },
    {
      "cell_type": "code",
      "metadata": {
        "id": "p402AtN2-gkY",
        "colab": {
          "base_uri": "https://localhost:8080/"
        },
        "outputId": "5266f640-f8a8-4c64-aafb-f92d29c5dcba"
      },
      "source": [
        "sns.barplot(x='Pclass',y='Survived',data=df)"
      ],
      "execution_count": null,
      "outputs": [
        {
          "output_type": "execute_result",
          "data": {
            "text/plain": [
              "<matplotlib.axes._subplots.AxesSubplot at 0x7fbe85cde2e8>"
            ]
          },
          "metadata": {
            "tags": []
          },
          "execution_count": 381
        },
        {
          "output_type": "display_data",
          "data": {
            "image/png": "[encoded data removed]",
            "text/plain": [
              "<Figure size 432x288 with 1 Axes>"
            ]
          },
          "metadata": {
            "tags": [],
            "needs_background": "light"
          }
        }
      ]
    },
    {
      "cell_type": "code",
      "metadata": {
        "id": "TYu_PVpBFuRu",
        "colab": {
          "base_uri": "https://localhost:8080/"
        },
        "outputId": "e9ce3c76-b3e4-4d72-b5f9-f7261614e243"
      },
      "source": [
        "df[['Pclass','Survived']].groupby(['Pclass'], as_index=False).mean().sort_values(by='Survived')"
      ],
      "execution_count": null,
      "outputs": [
        {
          "output_type": "execute_result",
          "data": {
            "text/html": [
              "<div>\n",
              "<style scoped>\n",
              "    .dataframe tbody tr th:only-of-type {\n",
              "        vertical-align: middle;\n",
              "    }\n",
              "\n",
              "    .dataframe tbody tr th {\n",
              "        vertical-align: top;\n",
              "    }\n",
              "\n",
              "    .dataframe thead th {\n",
              "        text-align: right;\n",
              "    }\n",
              "</style>\n",
              "<table border=\"1\" class=\"dataframe\">\n",
              "  <thead>\n",
              "    <tr style=\"text-align: right;\">\n",
              "      <th></th>\n",
              "      <th>Pclass</th>\n",
              "      <th>Survived</th>\n",
              "    </tr>\n",
              "  </thead>\n",
              "  <tbody>\n",
              "    <tr>\n",
              "      <th>2</th>\n",
              "      <td>3</td>\n",
              "      <td>0.242363</td>\n",
              "    </tr>\n",
              "    <tr>\n",
              "      <th>1</th>\n",
              "      <td>2</td>\n",
              "      <td>0.472826</td>\n",
              "    </tr>\n",
              "    <tr>\n",
              "      <th>0</th>\n",
              "      <td>1</td>\n",
              "      <td>0.629630</td>\n",
              "    </tr>\n",
              "  </tbody>\n",
              "</table>\n",
              "</div>"
            ],
            "text/plain": [
              "   Pclass  Survived\n",
              "2       3  0.242363\n",
              "1       2  0.472826\n",
              "0       1  0.629630"
            ]
          },
          "metadata": {
            "tags": []
          },
          "execution_count": 382
        }
      ]
    },
    {
      "cell_type": "code",
      "metadata": {
        "id": "1uvsyq9c-ddo",
        "colab": {
          "base_uri": "https://localhost:8080/"
        },
        "outputId": "ad49f568-91a4-47cf-d02e-11273e6e9c92"
      },
      "source": [
        "df.corr()"
      ],
      "execution_count": null,
      "outputs": [
        {
          "output_type": "execute_result",
          "data": {
            "text/html": [
              "<div>\n",
              "<style scoped>\n",
              "    .dataframe tbody tr th:only-of-type {\n",
              "        vertical-align: middle;\n",
              "    }\n",
              "\n",
              "    .dataframe tbody tr th {\n",
              "        vertical-align: top;\n",
              "    }\n",
              "\n",
              "    .dataframe thead th {\n",
              "        text-align: right;\n",
              "    }\n",
              "</style>\n",
              "<table border=\"1\" class=\"dataframe\">\n",
              "  <thead>\n",
              "    <tr style=\"text-align: right;\">\n",
              "      <th></th>\n",
              "      <th>PassengerId</th>\n",
              "      <th>Survived</th>\n",
              "      <th>Pclass</th>\n",
              "      <th>Age</th>\n",
              "      <th>SibSp</th>\n",
              "      <th>Parch</th>\n",
              "      <th>Fare</th>\n",
              "    </tr>\n",
              "  </thead>\n",
              "  <tbody>\n",
              "    <tr>\n",
              "      <th>PassengerId</th>\n",
              "      <td>1.000000</td>\n",
              "      <td>-0.005007</td>\n",
              "      <td>-0.035144</td>\n",
              "      <td>0.036847</td>\n",
              "      <td>-0.057527</td>\n",
              "      <td>-0.001652</td>\n",
              "      <td>0.012658</td>\n",
              "    </tr>\n",
              "    <tr>\n",
              "      <th>Survived</th>\n",
              "      <td>-0.005007</td>\n",
              "      <td>1.000000</td>\n",
              "      <td>-0.338481</td>\n",
              "      <td>-0.077221</td>\n",
              "      <td>-0.035322</td>\n",
              "      <td>0.081629</td>\n",
              "      <td>0.257307</td>\n",
              "    </tr>\n",
              "    <tr>\n",
              "      <th>Pclass</th>\n",
              "      <td>-0.035144</td>\n",
              "      <td>-0.338481</td>\n",
              "      <td>1.000000</td>\n",
              "      <td>-0.369226</td>\n",
              "      <td>0.083081</td>\n",
              "      <td>0.018443</td>\n",
              "      <td>-0.549500</td>\n",
              "    </tr>\n",
              "    <tr>\n",
              "      <th>Age</th>\n",
              "      <td>0.036847</td>\n",
              "      <td>-0.077221</td>\n",
              "      <td>-0.369226</td>\n",
              "      <td>1.000000</td>\n",
              "      <td>-0.308247</td>\n",
              "      <td>-0.189119</td>\n",
              "      <td>0.096067</td>\n",
              "    </tr>\n",
              "    <tr>\n",
              "      <th>SibSp</th>\n",
              "      <td>-0.057527</td>\n",
              "      <td>-0.035322</td>\n",
              "      <td>0.083081</td>\n",
              "      <td>-0.308247</td>\n",
              "      <td>1.000000</td>\n",
              "      <td>0.414838</td>\n",
              "      <td>0.159651</td>\n",
              "    </tr>\n",
              "    <tr>\n",
              "      <th>Parch</th>\n",
              "      <td>-0.001652</td>\n",
              "      <td>0.081629</td>\n",
              "      <td>0.018443</td>\n",
              "      <td>-0.189119</td>\n",
              "      <td>0.414838</td>\n",
              "      <td>1.000000</td>\n",
              "      <td>0.216225</td>\n",
              "    </tr>\n",
              "    <tr>\n",
              "      <th>Fare</th>\n",
              "      <td>0.012658</td>\n",
              "      <td>0.257307</td>\n",
              "      <td>-0.549500</td>\n",
              "      <td>0.096067</td>\n",
              "      <td>0.159651</td>\n",
              "      <td>0.216225</td>\n",
              "      <td>1.000000</td>\n",
              "    </tr>\n",
              "  </tbody>\n",
              "</table>\n",
              "</div>"
            ],
            "text/plain": [
              "             PassengerId  Survived    Pclass  ...     SibSp     Parch      Fare\n",
              "PassengerId     1.000000 -0.005007 -0.035144  ... -0.057527 -0.001652  0.012658\n",
              "Survived       -0.005007  1.000000 -0.338481  ... -0.035322  0.081629  0.257307\n",
              "Pclass         -0.035144 -0.338481  1.000000  ...  0.083081  0.018443 -0.549500\n",
              "Age             0.036847 -0.077221 -0.369226  ... -0.308247 -0.189119  0.096067\n",
              "SibSp          -0.057527 -0.035322  0.083081  ...  1.000000  0.414838  0.159651\n",
              "Parch          -0.001652  0.081629  0.018443  ...  0.414838  1.000000  0.216225\n",
              "Fare            0.012658  0.257307 -0.549500  ...  0.159651  0.216225  1.000000\n",
              "\n",
              "[7 rows x 7 columns]"
            ]
          },
          "metadata": {
            "tags": []
          },
          "execution_count": 383
        }
      ]
    },
    {
      "cell_type": "code",
      "metadata": {
        "id": "KfISAxFs_IT8",
        "colab": {
          "base_uri": "https://localhost:8080/"
        },
        "outputId": "9e1a0a71-ae4f-4a7d-e1a5-0f4c85a897e5"
      },
      "source": [
        "plt.figure(figsize=(10,5))\n",
        "sns.heatmap(df.corr(),annot=True, cmap='viridis')"
      ],
      "execution_count": null,
      "outputs": [
        {
          "output_type": "execute_result",
          "data": {
            "text/plain": [
              "<matplotlib.axes._subplots.AxesSubplot at 0x7fbe85ff26a0>"
            ]
          },
          "metadata": {
            "tags": []
          },
          "execution_count": 384
        },
        {
          "output_type": "display_data",
          "data": {
            "image/png": "[encoded data removed]",
            "text/plain": [
              "<Figure size 720x360 with 2 Axes>"
            ]
          },
          "metadata": {
            "tags": [],
            "needs_background": "light"
          }
        }
      ]
    },
    {
      "cell_type": "code",
      "metadata": {
        "id": "jMoeZCuoAYiv",
        "colab": {
          "base_uri": "https://localhost:8080/"
        },
        "outputId": "269d658f-f5f9-4bb6-eed1-626df029ef2c"
      },
      "source": [
        "df.corr()['Survived'].drop(['Survived']).sort_values().plot(kind='bar')"
      ],
      "execution_count": null,
      "outputs": [
        {
          "output_type": "execute_result",
          "data": {
            "text/plain": [
              "<matplotlib.axes._subplots.AxesSubplot at 0x7fbe85b98da0>"
            ]
          },
          "metadata": {
            "tags": []
          },
          "execution_count": 385
        },
        {
          "output_type": "display_data",
          "data": {
            "image/png": "[encoded data removed]",
            "text/plain": [
              "<Figure size 432x288 with 1 Axes>"
            ]
          },
          "metadata": {
            "tags": [],
            "needs_background": "light"
          }
        }
      ]
    },
    {
      "cell_type": "code",
      "metadata": {
        "id": "m8UCxh4AKg2n"
      },
      "source": [
        "#Do the same for test data\n",
        "#df_test = df_test.drop('PassengerId',axis=1)"
      ],
      "execution_count": null,
      "outputs": []
    },
    {
      "cell_type": "code",
      "metadata": {
        "id": "BRrURFLEA-pM",
        "colab": {
          "base_uri": "https://localhost:8080/"
        },
        "outputId": "9701f0f6-d9d6-4a25-892d-f6087743bd49"
      },
      "source": [
        "df.corr()['Survived'].drop(['Survived']).sort_values().plot(kind='bar')"
      ],
      "execution_count": null,
      "outputs": [
        {
          "output_type": "execute_result",
          "data": {
            "text/plain": [
              "<matplotlib.axes._subplots.AxesSubplot at 0x7fbe85b709b0>"
            ]
          },
          "metadata": {
            "tags": []
          },
          "execution_count": 387
        },
        {
          "output_type": "display_data",
          "data": {
            "image/png": "[encoded data removed]",
            "text/plain": [
              "<Figure size 432x288 with 1 Axes>"
            ]
          },
          "metadata": {
            "tags": [],
            "needs_background": "light"
          }
        }
      ]
    },
    {
      "cell_type": "code",
      "metadata": {
        "id": "3X3BiBBK_PXp",
        "colab": {
          "base_uri": "https://localhost:8080/"
        },
        "outputId": "a019243a-0ae1-4a57-84c4-fdaec234bf9f"
      },
      "source": [
        "sns.barplot(y='Survived',x='Pclass',data=df)"
      ],
      "execution_count": null,
      "outputs": [
        {
          "output_type": "execute_result",
          "data": {
            "text/plain": [
              "<matplotlib.axes._subplots.AxesSubplot at 0x7fbe85b44be0>"
            ]
          },
          "metadata": {
            "tags": []
          },
          "execution_count": 388
        },
        {
          "output_type": "display_data",
          "data": {
            "image/png": "[encoded data removed]",
            "text/plain": [
              "<Figure size 432x288 with 1 Axes>"
            ]
          },
          "metadata": {
            "tags": [],
            "needs_background": "light"
          }
        }
      ]
    },
    {
      "cell_type": "code",
      "metadata": {
        "id": "j7Hlw25AGqtv",
        "colab": {
          "base_uri": "https://localhost:8080/"
        },
        "outputId": "1c99ac09-ad38-48a1-c4c0-7b25fa1dcdd1"
      },
      "source": [
        "sns.boxplot(y='Survived',x='Pclass',data=df)"
      ],
      "execution_count": null,
      "outputs": [
        {
          "output_type": "execute_result",
          "data": {
            "text/plain": [
              "<matplotlib.axes._subplots.AxesSubplot at 0x7fbe85a8ec50>"
            ]
          },
          "metadata": {
            "tags": []
          },
          "execution_count": 389
        },
        {
          "output_type": "display_data",
          "data": {
            "image/png": "[encoded data removed]",
            "text/plain": [
              "<Figure size 432x288 with 1 Axes>"
            ]
          },
          "metadata": {
            "tags": [],
            "needs_background": "light"
          }
        }
      ]
    },
    {
      "cell_type": "code",
      "metadata": {
        "id": "pOOgFNHOHVcf",
        "colab": {
          "base_uri": "https://localhost:8080/"
        },
        "outputId": "a0522fb0-701f-4ce8-cd1e-ca5ee025d002"
      },
      "source": [
        "sns.countplot(x='Pclass',data=df,hue='Survived')"
      ],
      "execution_count": null,
      "outputs": [
        {
          "output_type": "execute_result",
          "data": {
            "text/plain": [
              "<matplotlib.axes._subplots.AxesSubplot at 0x7fbe85b70128>"
            ]
          },
          "metadata": {
            "tags": []
          },
          "execution_count": 390
        },
        {
          "output_type": "display_data",
          "data": {
            "image/png": "[encoded data removed]",
            "text/plain": [
              "<Figure size 432x288 with 1 Axes>"
            ]
          },
          "metadata": {
            "tags": [],
            "needs_background": "light"
          }
        }
      ]
    },
    {
      "cell_type": "markdown",
      "metadata": {
        "id": "wm2rM6SIJpMn"
      },
      "source": [
        "**Pclass being categorical, convert that to dummies **"
      ]
    },
    {
      "cell_type": "code",
      "metadata": {
        "id": "yDrxfRp_JuZz"
      },
      "source": [
        "dummies_Pclass = pd.get_dummies(df['Pclass'],prefix='Pclass')\n",
        "df = pd.concat([df.drop('Pclass',axis=1),dummies_Pclass],axis=1)"
      ],
      "execution_count": null,
      "outputs": []
    },
    {
      "cell_type": "code",
      "metadata": {
        "id": "rElvDnpjKsni"
      },
      "source": [
        "#Do the same for df_test\n",
        "dummies_Pclass = pd.get_dummies(df_test['Pclass'],prefix='Pclass')\n",
        "df_test = pd.concat([df_test.drop('Pclass',axis=1),dummies_Pclass],axis=1)"
      ],
      "execution_count": null,
      "outputs": []
    },
    {
      "cell_type": "code",
      "metadata": {
        "id": "STOoXQmkHsid",
        "colab": {
          "base_uri": "https://localhost:8080/"
        },
        "outputId": "352740bd-919b-4348-94e2-3b222651ad48"
      },
      "source": [
        "df.isnull().sum()"
      ],
      "execution_count": null,
      "outputs": [
        {
          "output_type": "execute_result",
          "data": {
            "text/plain": [
              "PassengerId      0\n",
              "Survived         0\n",
              "Name             0\n",
              "Sex              0\n",
              "Age            177\n",
              "SibSp            0\n",
              "Parch            0\n",
              "Ticket           0\n",
              "Fare             0\n",
              "Cabin          687\n",
              "Embarked         2\n",
              "Pclass_1         0\n",
              "Pclass_2         0\n",
              "Pclass_3         0\n",
              "dtype: int64"
            ]
          },
          "metadata": {
            "tags": []
          },
          "execution_count": 393
        }
      ]
    },
    {
      "cell_type": "markdown",
      "metadata": {
        "id": "_VCGL4ySK4nW"
      },
      "source": [
        "**Analysis on sex field **"
      ]
    },
    {
      "cell_type": "code",
      "metadata": {
        "id": "yZ0OZktzHyxa",
        "colab": {
          "base_uri": "https://localhost:8080/"
        },
        "outputId": "766d7509-adde-46b6-ab23-41e39cd8834d"
      },
      "source": [
        "sns.countplot(df['Sex'], hue=df['Survived'])"
      ],
      "execution_count": null,
      "outputs": [
        {
          "output_type": "execute_result",
          "data": {
            "text/plain": [
              "<matplotlib.axes._subplots.AxesSubplot at 0x7fbe850730f0>"
            ]
          },
          "metadata": {
            "tags": []
          },
          "execution_count": 394
        },
        {
          "output_type": "display_data",
          "data": {
            "image/png": "[encoded data removed]",
            "text/plain": [
              "<Figure size 432x288 with 1 Axes>"
            ]
          },
          "metadata": {
            "tags": [],
            "needs_background": "light"
          }
        }
      ]
    },
    {
      "cell_type": "code",
      "metadata": {
        "id": "734paozjIW0G",
        "colab": {
          "base_uri": "https://localhost:8080/"
        },
        "outputId": "5cb601d8-2b4e-4448-eee8-950b566872e9"
      },
      "source": [
        "sns.barplot(y='Survived',x='Sex',data=df)"
      ],
      "execution_count": null,
      "outputs": [
        {
          "output_type": "execute_result",
          "data": {
            "text/plain": [
              "<matplotlib.axes._subplots.AxesSubplot at 0x7fbe850733c8>"
            ]
          },
          "metadata": {
            "tags": []
          },
          "execution_count": 395
        },
        {
          "output_type": "display_data",
          "data": {
            "image/png": "[encoded data removed]",
            "text/plain": [
              "<Figure size 432x288 with 1 Axes>"
            ]
          },
          "metadata": {
            "tags": [],
            "needs_background": "light"
          }
        }
      ]
    },
    {
      "cell_type": "code",
      "metadata": {
        "id": "5M6g4FOMIjmE",
        "colab": {
          "base_uri": "https://localhost:8080/"
        },
        "outputId": "80d310b1-d94e-4b2d-9ddd-4a43cf13214f"
      },
      "source": [
        "df[['Sex','Survived']].groupby(['Sex']).mean()"
      ],
      "execution_count": null,
      "outputs": [
        {
          "output_type": "execute_result",
          "data": {
            "text/html": [
              "<div>\n",
              "<style scoped>\n",
              "    .dataframe tbody tr th:only-of-type {\n",
              "        vertical-align: middle;\n",
              "    }\n",
              "\n",
              "    .dataframe tbody tr th {\n",
              "        vertical-align: top;\n",
              "    }\n",
              "\n",
              "    .dataframe thead th {\n",
              "        text-align: right;\n",
              "    }\n",
              "</style>\n",
              "<table border=\"1\" class=\"dataframe\">\n",
              "  <thead>\n",
              "    <tr style=\"text-align: right;\">\n",
              "      <th></th>\n",
              "      <th>Survived</th>\n",
              "    </tr>\n",
              "    <tr>\n",
              "      <th>Sex</th>\n",
              "      <th></th>\n",
              "    </tr>\n",
              "  </thead>\n",
              "  <tbody>\n",
              "    <tr>\n",
              "      <th>female</th>\n",
              "      <td>0.742038</td>\n",
              "    </tr>\n",
              "    <tr>\n",
              "      <th>male</th>\n",
              "      <td>0.188908</td>\n",
              "    </tr>\n",
              "  </tbody>\n",
              "</table>\n",
              "</div>"
            ],
            "text/plain": [
              "        Survived\n",
              "Sex             \n",
              "female  0.742038\n",
              "male    0.188908"
            ]
          },
          "metadata": {
            "tags": []
          },
          "execution_count": 396
        }
      ]
    },
    {
      "cell_type": "markdown",
      "metadata": {
        "id": "hrAgw9i0LOQN"
      },
      "source": [
        "**Convert Sex into Dummies **"
      ]
    },
    {
      "cell_type": "code",
      "metadata": {
        "id": "ZjnE2QTjLNC6"
      },
      "source": [
        "dummies_sex = pd.get_dummies(df['Sex'], prefix='Sex')\n",
        "df = pd.concat([df.drop('Sex',axis=1),dummies_sex],axis=1)"
      ],
      "execution_count": null,
      "outputs": []
    },
    {
      "cell_type": "code",
      "metadata": {
        "id": "jx_o_ddWLnvs"
      },
      "source": [
        "#Do the same for test data\n",
        "dummies_sex = pd.get_dummies(df_test['Sex'],prefix='Sex')\n",
        "df_test = pd.concat([df_test.drop('Sex',axis=1),dummies_sex],axis=1)"
      ],
      "execution_count": null,
      "outputs": []
    },
    {
      "cell_type": "code",
      "metadata": {
        "id": "NHkx3blbLWJX",
        "colab": {
          "base_uri": "https://localhost:8080/"
        },
        "outputId": "109aed9f-0b5f-4182-9ef0-36bb8a3a1524"
      },
      "source": [
        "df.select_dtypes('object').columns"
      ],
      "execution_count": null,
      "outputs": [
        {
          "output_type": "execute_result",
          "data": {
            "text/plain": [
              "Index(['Name', 'Ticket', 'Cabin', 'Embarked'], dtype='object')"
            ]
          },
          "metadata": {
            "tags": []
          },
          "execution_count": 399
        }
      ]
    },
    {
      "cell_type": "markdown",
      "metadata": {
        "id": "HijLkH9aMA-9"
      },
      "source": [
        "**Analysis on Cabin **"
      ]
    },
    {
      "cell_type": "code",
      "metadata": {
        "id": "OVLm2B5cLyzJ",
        "colab": {
          "base_uri": "https://localhost:8080/"
        },
        "outputId": "b193aa51-e93b-4a23-9671-a9599ee208db"
      },
      "source": [
        "sns.countplot(df['Cabin'], data=df)"
      ],
      "execution_count": null,
      "outputs": [
        {
          "output_type": "execute_result",
          "data": {
            "text/plain": [
              "<matplotlib.axes._subplots.AxesSubplot at 0x7fbe84f4bfd0>"
            ]
          },
          "metadata": {
            "tags": []
          },
          "execution_count": 400
        },
        {
          "output_type": "display_data",
          "data": {
            "image/png": "[encoded data removed]",
            "text/plain": [
              "<Figure size 432x288 with 1 Axes>"
            ]
          },
          "metadata": {
            "tags": [],
            "needs_background": "light"
          }
        }
      ]
    },
    {
      "cell_type": "code",
      "metadata": {
        "id": "P2R89qcTMIlJ"
      },
      "source": [
        "sorted(df['Cabin'].dropna().unique())\n",
        "\n",
        "#Create another column with first letter of the Cabin\n",
        "df['CabinCatagory'] = df['Cabin'].fillna('OTHER').apply(lambda cabin: cabin[:1])\n",
        "\n",
        "#Create the same for Test data\n",
        "df_test['CabinCatagory'] = df_test['Cabin'].fillna('OTHER').apply(lambda cabin: cabin[:1])"
      ],
      "execution_count": null,
      "outputs": []
    },
    {
      "cell_type": "code",
      "metadata": {
        "id": "k3MVx9gcNU5H",
        "colab": {
          "base_uri": "https://localhost:8080/"
        },
        "outputId": "da2b9e1c-99d7-4570-8063-964897aae3db"
      },
      "source": [
        "sns.countplot(df['CabinCatagory'], hue=df['Survived'], order=sorted(df['CabinCatagory'].unique()))"
      ],
      "execution_count": null,
      "outputs": [
        {
          "output_type": "execute_result",
          "data": {
            "text/plain": [
              "<matplotlib.axes._subplots.AxesSubplot at 0x7fbe84ee33c8>"
            ]
          },
          "metadata": {
            "tags": []
          },
          "execution_count": 402
        },
        {
          "output_type": "display_data",
          "data": {
            "image/png": "[encoded data removed]",
            "text/plain": [
              "<Figure size 432x288 with 1 Axes>"
            ]
          },
          "metadata": {
            "tags": [],
            "needs_background": "light"
          }
        }
      ]
    },
    {
      "cell_type": "markdown",
      "metadata": {
        "id": "YZ5xh1SCRpSQ"
      },
      "source": [
        "**Since lot of missing and distint values, this columns is being dropped **"
      ]
    },
    {
      "cell_type": "code",
      "metadata": {
        "id": "YSrG_TnaRxw5"
      },
      "source": [
        "df = df.drop(['Cabin','CabinCatagory'],axis=1)\n",
        "df_test = df_test.drop(['Cabin','CabinCatagory'],axis=1)"
      ],
      "execution_count": null,
      "outputs": []
    },
    {
      "cell_type": "code",
      "metadata": {
        "id": "npPW4Ht6MjFs"
      },
      "source": [
        "# cabin_dummies = pd.get_dummies(df['CabinCatagory'], prefix='CabinCatagory')\n",
        "# df = pd.concat([df.drop(['CabinCatagory','Cabin'],axis=1),cabin_dummies],axis=1)\n",
        "\n",
        "# #Do the same for Test data\n",
        "# cabin_dummies = pd.get_dummies(df_test['CabinCatagory'],prefix='CabinCatagory')\n",
        "# df_test = pd.concat([df_test.drop(['CabinCatagory','Cabin'],axis=1),cabin_dummies],axis=1)\n"
      ],
      "execution_count": null,
      "outputs": []
    },
    {
      "cell_type": "markdown",
      "metadata": {
        "id": "-KP_Z1rQSe8w"
      },
      "source": [
        "**End Cabin **"
      ]
    },
    {
      "cell_type": "markdown",
      "metadata": {
        "id": "ik9pEA4EAxju"
      },
      "source": [
        "#Analysis for Embarked"
      ]
    },
    {
      "cell_type": "code",
      "metadata": {
        "id": "BbGuVE-ktEbV",
        "colab": {
          "base_uri": "https://localhost:8080/"
        },
        "outputId": "b9730514-d89d-4461-8172-bced3bc3e847"
      },
      "source": [
        "df.select_dtypes('object').columns"
      ],
      "execution_count": null,
      "outputs": [
        {
          "output_type": "execute_result",
          "data": {
            "text/plain": [
              "Index(['Name', 'Ticket', 'Embarked'], dtype='object')"
            ]
          },
          "metadata": {
            "tags": []
          },
          "execution_count": 405
        }
      ]
    },
    {
      "cell_type": "code",
      "metadata": {
        "id": "nxayXxtttIAf",
        "colab": {
          "base_uri": "https://localhost:8080/"
        },
        "outputId": "4ae8fe37-20ae-4052-9646-b42bff158f62"
      },
      "source": [
        "df['Embarked'].value_counts()"
      ],
      "execution_count": null,
      "outputs": [
        {
          "output_type": "execute_result",
          "data": {
            "text/plain": [
              "S    644\n",
              "C    168\n",
              "Q     77\n",
              "Name: Embarked, dtype: int64"
            ]
          },
          "metadata": {
            "tags": []
          },
          "execution_count": 406
        }
      ]
    },
    {
      "cell_type": "code",
      "metadata": {
        "id": "-TsIilx1fvrY",
        "colab": {
          "base_uri": "https://localhost:8080/"
        },
        "outputId": "4358eaad-9145-4d3f-f8f0-c0188f9b6bc9"
      },
      "source": [
        "df_test['Embarked'].value_counts()"
      ],
      "execution_count": null,
      "outputs": [
        {
          "output_type": "execute_result",
          "data": {
            "text/plain": [
              "S    270\n",
              "C    102\n",
              "Q     46\n",
              "Name: Embarked, dtype: int64"
            ]
          },
          "metadata": {
            "tags": []
          },
          "execution_count": 407
        }
      ]
    },
    {
      "cell_type": "code",
      "metadata": {
        "id": "vRUAob8XtU0g",
        "colab": {
          "base_uri": "https://localhost:8080/"
        },
        "outputId": "77660b39-6c0a-4c21-c65c-4c83ba705f90"
      },
      "source": [
        "sns.countplot(x='Embarked',data=df,hue='Survived')"
      ],
      "execution_count": null,
      "outputs": [
        {
          "output_type": "execute_result",
          "data": {
            "text/plain": [
              "<matplotlib.axes._subplots.AxesSubplot at 0x7fbe85d24eb8>"
            ]
          },
          "metadata": {
            "tags": []
          },
          "execution_count": 408
        },
        {
          "output_type": "display_data",
          "data": {
            "image/png": "[encoded data removed]",
            "text/plain": [
              "<Figure size 432x288 with 1 Axes>"
            ]
          },
          "metadata": {
            "tags": [],
            "needs_background": "light"
          }
        }
      ]
    },
    {
      "cell_type": "markdown",
      "metadata": {
        "id": "f2FlGEEBttQt"
      },
      "source": [
        "**Convert Embarked to dummies **"
      ]
    },
    {
      "cell_type": "code",
      "metadata": {
        "id": "74VNXGoltw7t",
        "colab": {
          "base_uri": "https://localhost:8080/"
        },
        "outputId": "69350651-0c2c-4f19-892e-e4e97af339f8"
      },
      "source": [
        "embarked_dummies = pd.get_dummies(df['Embarked'],prefix='Embarked')\n",
        "df = pd.concat([df.drop('Embarked',axis=1),embarked_dummies],axis=1)\n",
        "embarked_dummies.shape\n",
        "\n",
        "#DO the same for Test data\n",
        "embarked_dummies = pd.get_dummies(df_test['Embarked'],prefix='Embarked')\n",
        "df_test = pd.concat([df_test.drop('Embarked',axis=1),embarked_dummies],axis=1)\n",
        "embarked_dummies.shape"
      ],
      "execution_count": null,
      "outputs": [
        {
          "output_type": "execute_result",
          "data": {
            "text/plain": [
              "(418, 3)"
            ]
          },
          "metadata": {
            "tags": []
          },
          "execution_count": 409
        }
      ]
    },
    {
      "cell_type": "markdown",
      "metadata": {
        "id": "-QAoNYtkBFg4"
      },
      "source": [
        "#Analysis for Ticket"
      ]
    },
    {
      "cell_type": "code",
      "metadata": {
        "id": "_aiwIY2puTCD",
        "colab": {
          "base_uri": "https://localhost:8080/"
        },
        "outputId": "876de7ca-8e19-40a9-ddf1-65cda55d9e50"
      },
      "source": [
        "df.select_dtypes('object').columns"
      ],
      "execution_count": null,
      "outputs": [
        {
          "output_type": "execute_result",
          "data": {
            "text/plain": [
              "Index(['Name', 'Ticket'], dtype='object')"
            ]
          },
          "metadata": {
            "tags": []
          },
          "execution_count": 410
        }
      ]
    },
    {
      "cell_type": "code",
      "metadata": {
        "id": "mZ3qxY-EuciW",
        "colab": {
          "base_uri": "https://localhost:8080/"
        },
        "outputId": "af66ecee-6fa8-4001-e8b2-6b45b3b4b5f2"
      },
      "source": [
        "df['Ticket'].value_counts()"
      ],
      "execution_count": null,
      "outputs": [
        {
          "output_type": "execute_result",
          "data": {
            "text/plain": [
              "347082           7\n",
              "1601             7\n",
              "CA. 2343         7\n",
              "3101295          6\n",
              "CA 2144          6\n",
              "                ..\n",
              "343275           1\n",
              "S.W./PP 752      1\n",
              "SC/Paris 2163    1\n",
              "W./C. 14258      1\n",
              "PC 17474         1\n",
              "Name: Ticket, Length: 681, dtype: int64"
            ]
          },
          "metadata": {
            "tags": []
          },
          "execution_count": 411
        }
      ]
    },
    {
      "cell_type": "code",
      "metadata": {
        "id": "U43so_nXuhiX"
      },
      "source": [
        "#Ticket should be dropped\n",
        "df = df.drop('Ticket',axis=1)\n",
        "df_test = df_test.drop('Ticket',axis=1)"
      ],
      "execution_count": null,
      "outputs": []
    },
    {
      "cell_type": "code",
      "metadata": {
        "id": "9BA89X4NvCnN",
        "colab": {
          "base_uri": "https://localhost:8080/"
        },
        "outputId": "ce5947fd-303e-4bac-a504-76a5cb4664cd"
      },
      "source": [
        "df.select_dtypes('object').columns"
      ],
      "execution_count": null,
      "outputs": [
        {
          "output_type": "execute_result",
          "data": {
            "text/plain": [
              "Index(['Name'], dtype='object')"
            ]
          },
          "metadata": {
            "tags": []
          },
          "execution_count": 413
        }
      ]
    },
    {
      "cell_type": "code",
      "metadata": {
        "id": "diwrJm0Evhqp",
        "colab": {
          "base_uri": "https://localhost:8080/"
        },
        "outputId": "857fe05c-69e8-4eb0-df05-c076fc1ad92d"
      },
      "source": [
        "df.isnull().info()"
      ],
      "execution_count": null,
      "outputs": [
        {
          "output_type": "stream",
          "text": [
            "<class 'pandas.core.frame.DataFrame'>\n",
            "RangeIndex: 891 entries, 0 to 890\n",
            "Data columns (total 15 columns):\n",
            " #   Column       Non-Null Count  Dtype\n",
            "---  ------       --------------  -----\n",
            " 0   PassengerId  891 non-null    bool \n",
            " 1   Survived     891 non-null    bool \n",
            " 2   Name         891 non-null    bool \n",
            " 3   Age          891 non-null    bool \n",
            " 4   SibSp        891 non-null    bool \n",
            " 5   Parch        891 non-null    bool \n",
            " 6   Fare         891 non-null    bool \n",
            " 7   Pclass_1     891 non-null    bool \n",
            " 8   Pclass_2     891 non-null    bool \n",
            " 9   Pclass_3     891 non-null    bool \n",
            " 10  Sex_female   891 non-null    bool \n",
            " 11  Sex_male     891 non-null    bool \n",
            " 12  Embarked_C   891 non-null    bool \n",
            " 13  Embarked_Q   891 non-null    bool \n",
            " 14  Embarked_S   891 non-null    bool \n",
            "dtypes: bool(15)\n",
            "memory usage: 13.2 KB\n"
          ],
          "name": "stdout"
        }
      ]
    },
    {
      "cell_type": "markdown",
      "metadata": {
        "id": "7L70RFE4mKLM"
      },
      "source": [
        "#Analysis of Name"
      ]
    },
    {
      "cell_type": "code",
      "metadata": {
        "id": "Y3f3aZvRm8A2",
        "colab": {
          "base_uri": "https://localhost:8080/",
          "height": 68
        },
        "outputId": "c5a7f449-c3ed-4527-b6bc-2efaf6c7e31a"
      },
      "source": [
        "df['Name'].apply(lambda s: s.split(', ')[1].split('.')[0]).unique()"
      ],
      "execution_count": null,
      "outputs": [
        {
          "output_type": "execute_result",
          "data": {
            "text/plain": [
              "array(['Mr', 'Mrs', 'Miss', 'Master', 'Don', 'Rev', 'Dr', 'Mme', 'Ms',\n",
              "       'Major', 'Lady', 'Sir', 'Mlle', 'Col', 'Capt', 'the Countess',\n",
              "       'Jonkheer'], dtype=object)"
            ]
          },
          "metadata": {
            "tags": []
          },
          "execution_count": 415
        }
      ]
    },
    {
      "cell_type": "code",
      "metadata": {
        "id": "J4ww1x0eocm0",
        "colab": {
          "base_uri": "https://localhost:8080/",
          "height": 51
        },
        "outputId": "cea3eefe-47d2-40d3-c6c2-823a2d25882d"
      },
      "source": [
        "df_test['Name'].apply(lambda s: s.split(', ')[1].split('.')[0]).unique()"
      ],
      "execution_count": null,
      "outputs": [
        {
          "output_type": "execute_result",
          "data": {
            "text/plain": [
              "array(['Mr', 'Mrs', 'Miss', 'Master', 'Ms', 'Col', 'Rev', 'Dr', 'Dona'],\n",
              "      dtype=object)"
            ]
          },
          "metadata": {
            "tags": []
          },
          "execution_count": 416
        }
      ]
    },
    {
      "cell_type": "code",
      "metadata": {
        "id": "uToQWRDOm2Pq",
        "colab": {
          "base_uri": "https://localhost:8080/",
          "height": 514
        },
        "outputId": "ca9508ec-c545-4e06-e7ff-6d52929ab41b"
      },
      "source": [
        "plt.figure(figsize=(12,8))\n",
        "sns.countplot(df['Name'].apply(lambda s: s.split(', ')[1].split('.')[0]),hue=df['Survived'])"
      ],
      "execution_count": null,
      "outputs": [
        {
          "output_type": "execute_result",
          "data": {
            "text/plain": [
              "<matplotlib.axes._subplots.AxesSubplot at 0x7fbe84a93208>"
            ]
          },
          "metadata": {
            "tags": []
          },
          "execution_count": 417
        },
        {
          "output_type": "display_data",
          "data": {
            "image/png": "[encoded data removed]",
            "text/plain": [
              "<Figure size 864x576 with 1 Axes>"
            ]
          },
          "metadata": {
            "tags": [],
            "needs_background": "light"
          }
        }
      ]
    },
    {
      "cell_type": "code",
      "metadata": {
        "id": "eOJUnfOCsolf",
        "colab": {
          "base_uri": "https://localhost:8080/",
          "height": 34
        },
        "outputId": "1234a2c7-e5da-40c6-ef8e-07318197caa2"
      },
      "source": [
        "df['NameTitle'] = df['Name'].apply(lambda s: s.split(', ')[1].split('.')[0])\n",
        "\n",
        "df['NameTitle'] = df['NameTitle'].replace(['Col', 'Lady',  'Mlle', 'Mme','Ms','the Countess','Sir','Dr'],'Special')\n",
        "df['NameTitle'] = df['NameTitle'].replace(['Rev', 'Jonkheer'],'Other')\n",
        "df['NameTitle'] = df['NameTitle'].replace(['Major','Capt','Don'],'Mr')\n",
        "df['NameTitle'] = df['NameTitle'].replace(['Dona'],'Mrs') #Found in Test dataset\n",
        "df['NameTitle'].unique()"
      ],
      "execution_count": null,
      "outputs": [
        {
          "output_type": "execute_result",
          "data": {
            "text/plain": [
              "array(['Mr', 'Mrs', 'Miss', 'Master', 'Other', 'Special'], dtype=object)"
            ]
          },
          "metadata": {
            "tags": []
          },
          "execution_count": 418
        }
      ]
    },
    {
      "cell_type": "code",
      "metadata": {
        "id": "JGJaQsGuy3fZ",
        "colab": {
          "base_uri": "https://localhost:8080/",
          "height": 34
        },
        "outputId": "c2d342c6-9650-43c9-fd03-033a79765731"
      },
      "source": [
        "df_test['NameTitle'] = df_test['Name'].apply(lambda s: s.split(', ')[1].split('.')[0])\n",
        "\n",
        "df_test['NameTitle'] = df_test['NameTitle'].replace(['Col', 'Lady',  'Mlle', 'Mme','Ms','the Countess','Sir','Dr'],'Special')\n",
        "df_test['NameTitle'] = df_test['NameTitle'].replace(['Rev', 'Jonkheer'],'Other')\n",
        "df_test['NameTitle'] = df_test['NameTitle'].replace(['Major','Capt','Don'],'Mr')\n",
        "df_test['NameTitle'] = df_test['NameTitle'].replace(['Dona'],'Mrs') #Found in Test dataset\n",
        "df_test['NameTitle'].unique()"
      ],
      "execution_count": null,
      "outputs": [
        {
          "output_type": "execute_result",
          "data": {
            "text/plain": [
              "array(['Mr', 'Mrs', 'Miss', 'Master', 'Special', 'Other'], dtype=object)"
            ]
          },
          "metadata": {
            "tags": []
          },
          "execution_count": 419
        }
      ]
    },
    {
      "cell_type": "code",
      "metadata": {
        "id": "LiTwynTGzJQ9",
        "colab": {
          "base_uri": "https://localhost:8080/",
          "height": 296
        },
        "outputId": "667a64f9-4d5d-480c-f07e-d52efe10755e"
      },
      "source": [
        "sns.countplot(df['NameTitle'],hue=df['Survived'])"
      ],
      "execution_count": null,
      "outputs": [
        {
          "output_type": "execute_result",
          "data": {
            "text/plain": [
              "<matplotlib.axes._subplots.AxesSubplot at 0x7fbe84afe710>"
            ]
          },
          "metadata": {
            "tags": []
          },
          "execution_count": 420
        },
        {
          "output_type": "display_data",
          "data": {
            "image/png": "[encoded data removed]",
            "text/plain": [
              "<Figure size 432x288 with 1 Axes>"
            ]
          },
          "metadata": {
            "tags": [],
            "needs_background": "light"
          }
        }
      ]
    },
    {
      "cell_type": "code",
      "metadata": {
        "id": "ZH8C-W53zRPG"
      },
      "source": [
        "nameTitle_dummies = pd.get_dummies(df['NameTitle'],prefix='NameTitle')\n",
        "\n",
        "df = pd.concat([df,nameTitle_dummies],axis=1)\n",
        "\n",
        "nameTitle_dummies = pd.get_dummies(df_test['NameTitle'],prefix='NameTitle')\n",
        "\n",
        "df_test = pd.concat([df_test,nameTitle_dummies],axis=1)\n"
      ],
      "execution_count": null,
      "outputs": []
    },
    {
      "cell_type": "code",
      "metadata": {
        "id": "7iwkD3qw3Guz"
      },
      "source": [
        "df = df.drop(['Name','NameTitle'],axis=1)\n",
        "df_test = df_test.drop(['Name','NameTitle'],axis=1)"
      ],
      "execution_count": null,
      "outputs": []
    },
    {
      "cell_type": "markdown",
      "metadata": {
        "id": "fECat8HYvzOW"
      },
      "source": [
        "#Analysis for Age"
      ]
    },
    {
      "cell_type": "code",
      "metadata": {
        "id": "0XBrachDv1Em",
        "colab": {
          "base_uri": "https://localhost:8080/"
        },
        "outputId": "3baeda7d-7338-4689-ac02-d8df648f0f63"
      },
      "source": [
        "sns.boxplot(x='Survived',y='Age',data=df)"
      ],
      "execution_count": null,
      "outputs": [
        {
          "output_type": "execute_result",
          "data": {
            "text/plain": [
              "<matplotlib.axes._subplots.AxesSubplot at 0x7fbe838afac8>"
            ]
          },
          "metadata": {
            "tags": []
          },
          "execution_count": 423
        },
        {
          "output_type": "display_data",
          "data": {
            "image/png": "[encoded data removed]",
            "text/plain": [
              "<Figure size 432x288 with 1 Axes>"
            ]
          },
          "metadata": {
            "tags": [],
            "needs_background": "light"
          }
        }
      ]
    },
    {
      "cell_type": "code",
      "metadata": {
        "id": "COtTtHJiv6pO",
        "colab": {
          "base_uri": "https://localhost:8080/"
        },
        "outputId": "743065b7-87ba-405a-b86d-9b94736b0e5f"
      },
      "source": [
        "sns.distplot(df['Age'])"
      ],
      "execution_count": null,
      "outputs": [
        {
          "output_type": "execute_result",
          "data": {
            "text/plain": [
              "<matplotlib.axes._subplots.AxesSubplot at 0x7fbe84a9f668>"
            ]
          },
          "metadata": {
            "tags": []
          },
          "execution_count": 424
        },
        {
          "output_type": "display_data",
          "data": {
            "image/png": "[encoded data removed]",
            "text/plain": [
              "<Figure size 432x288 with 1 Axes>"
            ]
          },
          "metadata": {
            "tags": [],
            "needs_background": "light"
          }
        }
      ]
    },
    {
      "cell_type": "code",
      "metadata": {
        "id": "qN_5BBdBaoTL"
      },
      "source": [
        "#grid = sns.FacetGrid(df,row='Pclass',col='Survived')\n",
        "#grid.map(plt.hist,'Age')\n",
        "#grid.add_legend()"
      ],
      "execution_count": null,
      "outputs": []
    },
    {
      "cell_type": "code",
      "metadata": {
        "id": "jP_xp5g6wGjC",
        "colab": {
          "base_uri": "https://localhost:8080/"
        },
        "outputId": "c91b71c5-f8c5-4455-e02a-df07bde265de"
      },
      "source": [
        "df['Age'].isnull().sum()"
      ],
      "execution_count": null,
      "outputs": [
        {
          "output_type": "execute_result",
          "data": {
            "text/plain": [
              "177"
            ]
          },
          "metadata": {
            "tags": []
          },
          "execution_count": 426
        }
      ]
    },
    {
      "cell_type": "code",
      "metadata": {
        "id": "6nFrtmK6vqxP",
        "colab": {
          "base_uri": "https://localhost:8080/"
        },
        "outputId": "c45fbcd9-61d0-4f93-8129-b4079a9e60fb"
      },
      "source": [
        "sns.countplot(df['Age'],hue=df['Survived'])"
      ],
      "execution_count": null,
      "outputs": [
        {
          "output_type": "execute_result",
          "data": {
            "text/plain": [
              "<matplotlib.axes._subplots.AxesSubplot at 0x7fbe87a611d0>"
            ]
          },
          "metadata": {
            "tags": []
          },
          "execution_count": 427
        },
        {
          "output_type": "display_data",
          "data": {
            "image/png": "[encoded data removed]",
            "text/plain": [
              "<Figure size 432x288 with 1 Axes>"
            ]
          },
          "metadata": {
            "tags": [],
            "needs_background": "light"
          }
        }
      ]
    },
    {
      "cell_type": "code",
      "metadata": {
        "id": "EPWJiS_IOLBV",
        "colab": {
          "base_uri": "https://localhost:8080/"
        },
        "outputId": "aad72d18-a034-44ad-ee68-1e75bc958ca8"
      },
      "source": [
        "g = sns.FacetGrid(df, col='Survived')\n",
        "g.map(plt.hist, 'Age', bins=20)"
      ],
      "execution_count": null,
      "outputs": [
        {
          "output_type": "execute_result",
          "data": {
            "text/plain": [
              "<seaborn.axisgrid.FacetGrid at 0x7fbe8c3fc0b8>"
            ]
          },
          "metadata": {
            "tags": []
          },
          "execution_count": 428
        },
        {
          "output_type": "display_data",
          "data": {
            "image/png": "[encoded data removed]",
            "text/plain": [
              "<Figure size 432x216 with 2 Axes>"
            ]
          },
          "metadata": {
            "tags": [],
            "needs_background": "light"
          }
        }
      ]
    },
    {
      "cell_type": "code",
      "metadata": {
        "id": "Qh7HkorTvk-9",
        "colab": {
          "base_uri": "https://localhost:8080/"
        },
        "outputId": "038e20a5-873a-42ab-98d4-ec5fbd92f702"
      },
      "source": [
        "df['Age'].describe()"
      ],
      "execution_count": null,
      "outputs": [
        {
          "output_type": "execute_result",
          "data": {
            "text/plain": [
              "count    714.000000\n",
              "mean      29.699118\n",
              "std       14.526497\n",
              "min        0.420000\n",
              "25%       20.125000\n",
              "50%       28.000000\n",
              "75%       38.000000\n",
              "max       80.000000\n",
              "Name: Age, dtype: float64"
            ]
          },
          "metadata": {
            "tags": []
          },
          "execution_count": 429
        }
      ]
    },
    {
      "cell_type": "code",
      "metadata": {
        "id": "u-KnTkyOCdqS",
        "colab": {
          "base_uri": "https://localhost:8080/"
        },
        "outputId": "f56a62bd-8cc3-4a05-afb5-b612a28a8635"
      },
      "source": [
        "df[(df['Age'].isnull()) & (df['Sex_female'] == 1)].groupby('Survived').count()\n"
      ],
      "execution_count": null,
      "outputs": [
        {
          "output_type": "execute_result",
          "data": {
            "text/html": [
              "<div>\n",
              "<style scoped>\n",
              "    .dataframe tbody tr th:only-of-type {\n",
              "        vertical-align: middle;\n",
              "    }\n",
              "\n",
              "    .dataframe tbody tr th {\n",
              "        vertical-align: top;\n",
              "    }\n",
              "\n",
              "    .dataframe thead th {\n",
              "        text-align: right;\n",
              "    }\n",
              "</style>\n",
              "<table border=\"1\" class=\"dataframe\">\n",
              "  <thead>\n",
              "    <tr style=\"text-align: right;\">\n",
              "      <th></th>\n",
              "      <th>PassengerId</th>\n",
              "      <th>Age</th>\n",
              "      <th>SibSp</th>\n",
              "      <th>Parch</th>\n",
              "      <th>Fare</th>\n",
              "      <th>Pclass_1</th>\n",
              "      <th>Pclass_2</th>\n",
              "      <th>Pclass_3</th>\n",
              "      <th>Sex_female</th>\n",
              "      <th>Sex_male</th>\n",
              "      <th>Embarked_C</th>\n",
              "      <th>Embarked_Q</th>\n",
              "      <th>Embarked_S</th>\n",
              "      <th>NameTitle_Master</th>\n",
              "      <th>NameTitle_Miss</th>\n",
              "      <th>NameTitle_Mr</th>\n",
              "      <th>NameTitle_Mrs</th>\n",
              "      <th>NameTitle_Other</th>\n",
              "      <th>NameTitle_Special</th>\n",
              "    </tr>\n",
              "    <tr>\n",
              "      <th>Survived</th>\n",
              "      <th></th>\n",
              "      <th></th>\n",
              "      <th></th>\n",
              "      <th></th>\n",
              "      <th></th>\n",
              "      <th></th>\n",
              "      <th></th>\n",
              "      <th></th>\n",
              "      <th></th>\n",
              "      <th></th>\n",
              "      <th></th>\n",
              "      <th></th>\n",
              "      <th></th>\n",
              "      <th></th>\n",
              "      <th></th>\n",
              "      <th></th>\n",
              "      <th></th>\n",
              "      <th></th>\n",
              "      <th></th>\n",
              "    </tr>\n",
              "  </thead>\n",
              "  <tbody>\n",
              "    <tr>\n",
              "      <th>0</th>\n",
              "      <td>17</td>\n",
              "      <td>0</td>\n",
              "      <td>17</td>\n",
              "      <td>17</td>\n",
              "      <td>17</td>\n",
              "      <td>17</td>\n",
              "      <td>17</td>\n",
              "      <td>17</td>\n",
              "      <td>17</td>\n",
              "      <td>17</td>\n",
              "      <td>17</td>\n",
              "      <td>17</td>\n",
              "      <td>17</td>\n",
              "      <td>17</td>\n",
              "      <td>17</td>\n",
              "      <td>17</td>\n",
              "      <td>17</td>\n",
              "      <td>17</td>\n",
              "      <td>17</td>\n",
              "    </tr>\n",
              "    <tr>\n",
              "      <th>1</th>\n",
              "      <td>36</td>\n",
              "      <td>0</td>\n",
              "      <td>36</td>\n",
              "      <td>36</td>\n",
              "      <td>36</td>\n",
              "      <td>36</td>\n",
              "      <td>36</td>\n",
              "      <td>36</td>\n",
              "      <td>36</td>\n",
              "      <td>36</td>\n",
              "      <td>36</td>\n",
              "      <td>36</td>\n",
              "      <td>36</td>\n",
              "      <td>36</td>\n",
              "      <td>36</td>\n",
              "      <td>36</td>\n",
              "      <td>36</td>\n",
              "      <td>36</td>\n",
              "      <td>36</td>\n",
              "    </tr>\n",
              "  </tbody>\n",
              "</table>\n",
              "</div>"
            ],
            "text/plain": [
              "          PassengerId  Age  ...  NameTitle_Other  NameTitle_Special\n",
              "Survived                    ...                                    \n",
              "0                  17    0  ...               17                 17\n",
              "1                  36    0  ...               36                 36\n",
              "\n",
              "[2 rows x 19 columns]"
            ]
          },
          "metadata": {
            "tags": []
          },
          "execution_count": 430
        }
      ]
    },
    {
      "cell_type": "code",
      "metadata": {
        "id": "MQMEvMByEzHx",
        "colab": {
          "base_uri": "https://localhost:8080/"
        },
        "outputId": "877ab968-77df-4f8e-8cca-8d80e510864a"
      },
      "source": [
        "df[(df['Age'].isnull()) & (df['Sex_male'] == 1)].groupby('Survived').count()"
      ],
      "execution_count": null,
      "outputs": [
        {
          "output_type": "execute_result",
          "data": {
            "text/html": [
              "<div>\n",
              "<style scoped>\n",
              "    .dataframe tbody tr th:only-of-type {\n",
              "        vertical-align: middle;\n",
              "    }\n",
              "\n",
              "    .dataframe tbody tr th {\n",
              "        vertical-align: top;\n",
              "    }\n",
              "\n",
              "    .dataframe thead th {\n",
              "        text-align: right;\n",
              "    }\n",
              "</style>\n",
              "<table border=\"1\" class=\"dataframe\">\n",
              "  <thead>\n",
              "    <tr style=\"text-align: right;\">\n",
              "      <th></th>\n",
              "      <th>PassengerId</th>\n",
              "      <th>Age</th>\n",
              "      <th>SibSp</th>\n",
              "      <th>Parch</th>\n",
              "      <th>Fare</th>\n",
              "      <th>Pclass_1</th>\n",
              "      <th>Pclass_2</th>\n",
              "      <th>Pclass_3</th>\n",
              "      <th>Sex_female</th>\n",
              "      <th>Sex_male</th>\n",
              "      <th>Embarked_C</th>\n",
              "      <th>Embarked_Q</th>\n",
              "      <th>Embarked_S</th>\n",
              "      <th>NameTitle_Master</th>\n",
              "      <th>NameTitle_Miss</th>\n",
              "      <th>NameTitle_Mr</th>\n",
              "      <th>NameTitle_Mrs</th>\n",
              "      <th>NameTitle_Other</th>\n",
              "      <th>NameTitle_Special</th>\n",
              "    </tr>\n",
              "    <tr>\n",
              "      <th>Survived</th>\n",
              "      <th></th>\n",
              "      <th></th>\n",
              "      <th></th>\n",
              "      <th></th>\n",
              "      <th></th>\n",
              "      <th></th>\n",
              "      <th></th>\n",
              "      <th></th>\n",
              "      <th></th>\n",
              "      <th></th>\n",
              "      <th></th>\n",
              "      <th></th>\n",
              "      <th></th>\n",
              "      <th></th>\n",
              "      <th></th>\n",
              "      <th></th>\n",
              "      <th></th>\n",
              "      <th></th>\n",
              "      <th></th>\n",
              "    </tr>\n",
              "  </thead>\n",
              "  <tbody>\n",
              "    <tr>\n",
              "      <th>0</th>\n",
              "      <td>108</td>\n",
              "      <td>0</td>\n",
              "      <td>108</td>\n",
              "      <td>108</td>\n",
              "      <td>108</td>\n",
              "      <td>108</td>\n",
              "      <td>108</td>\n",
              "      <td>108</td>\n",
              "      <td>108</td>\n",
              "      <td>108</td>\n",
              "      <td>108</td>\n",
              "      <td>108</td>\n",
              "      <td>108</td>\n",
              "      <td>108</td>\n",
              "      <td>108</td>\n",
              "      <td>108</td>\n",
              "      <td>108</td>\n",
              "      <td>108</td>\n",
              "      <td>108</td>\n",
              "    </tr>\n",
              "    <tr>\n",
              "      <th>1</th>\n",
              "      <td>16</td>\n",
              "      <td>0</td>\n",
              "      <td>16</td>\n",
              "      <td>16</td>\n",
              "      <td>16</td>\n",
              "      <td>16</td>\n",
              "      <td>16</td>\n",
              "      <td>16</td>\n",
              "      <td>16</td>\n",
              "      <td>16</td>\n",
              "      <td>16</td>\n",
              "      <td>16</td>\n",
              "      <td>16</td>\n",
              "      <td>16</td>\n",
              "      <td>16</td>\n",
              "      <td>16</td>\n",
              "      <td>16</td>\n",
              "      <td>16</td>\n",
              "      <td>16</td>\n",
              "    </tr>\n",
              "  </tbody>\n",
              "</table>\n",
              "</div>"
            ],
            "text/plain": [
              "          PassengerId  Age  ...  NameTitle_Other  NameTitle_Special\n",
              "Survived                    ...                                    \n",
              "0                 108    0  ...              108                108\n",
              "1                  16    0  ...               16                 16\n",
              "\n",
              "[2 rows x 19 columns]"
            ]
          },
          "metadata": {
            "tags": []
          },
          "execution_count": 431
        }
      ]
    },
    {
      "cell_type": "code",
      "metadata": {
        "id": "qhIf2jkDFHbl",
        "colab": {
          "base_uri": "https://localhost:8080/"
        },
        "outputId": "c019e326-85f0-438d-c143-643ee39fb23a"
      },
      "source": [
        "df[(df['Sex_female']==1)]['Age'].median()"
      ],
      "execution_count": null,
      "outputs": [
        {
          "output_type": "execute_result",
          "data": {
            "text/plain": [
              "27.0"
            ]
          },
          "metadata": {
            "tags": []
          },
          "execution_count": 432
        }
      ]
    },
    {
      "cell_type": "code",
      "metadata": {
        "id": "9SZGl50ZFp-x",
        "colab": {
          "base_uri": "https://localhost:8080/"
        },
        "outputId": "f62a0574-6800-4476-b3d7-b13b76a77d4e"
      },
      "source": [
        "df[(df['Sex_male']==1)]['Age'].median()"
      ],
      "execution_count": null,
      "outputs": [
        {
          "output_type": "execute_result",
          "data": {
            "text/plain": [
              "29.0"
            ]
          },
          "metadata": {
            "tags": []
          },
          "execution_count": 433
        }
      ]
    },
    {
      "cell_type": "code",
      "metadata": {
        "id": "AVeaiQ8oFHxW",
        "colab": {
          "base_uri": "https://localhost:8080/"
        },
        "outputId": "6651a67b-5dd7-487e-8830-0288e454840a"
      },
      "source": [
        "median_age = df['Age'].median()\n",
        "median_age"
      ],
      "execution_count": null,
      "outputs": [
        {
          "output_type": "execute_result",
          "data": {
            "text/plain": [
              "28.0"
            ]
          },
          "metadata": {
            "tags": []
          },
          "execution_count": 434
        }
      ]
    },
    {
      "cell_type": "code",
      "metadata": {
        "id": "9NMdv9RhME8I"
      },
      "source": [
        "#Fill Age of Master Title as per the median age of Masters\n",
        "\n",
        "df.loc[((df['NameTitle_Master']==1) & (df['Age'].isnull())),'Age'] = df[(df['NameTitle_Master']==1)]['Age'].median()\n",
        "df_test.loc[((df_test['NameTitle_Master']==1) & (df_test['Age'].isnull())),'Age'] = df_test[(df_test['NameTitle_Master']==1)]['Age'].median()\n"
      ],
      "execution_count": null,
      "outputs": []
    },
    {
      "cell_type": "code",
      "metadata": {
        "id": "o2LecDygFjzu"
      },
      "source": [
        "#As Median age is almost same for male and females, we fill null with median of both.\n",
        "df['Age'] = df['Age'].fillna(median_age)\n",
        "df_test['Age'] = df_test['Age'].fillna(median_age)"
      ],
      "execution_count": null,
      "outputs": []
    },
    {
      "cell_type": "code",
      "metadata": {
        "id": "dQbvaYIAEqXo",
        "colab": {
          "base_uri": "https://localhost:8080/"
        },
        "outputId": "dafe2c60-5c0f-425e-9f17-4bf13a968027"
      },
      "source": [
        "df['Age'].isnull().sum()"
      ],
      "execution_count": null,
      "outputs": [
        {
          "output_type": "execute_result",
          "data": {
            "text/plain": [
              "0"
            ]
          },
          "metadata": {
            "tags": []
          },
          "execution_count": 437
        }
      ]
    },
    {
      "cell_type": "code",
      "metadata": {
        "id": "0682HMeBCrXh",
        "colab": {
          "base_uri": "https://localhost:8080/"
        },
        "outputId": "b6207cce-cc8a-45ed-a997-fec27b24be1f"
      },
      "source": [
        "sns.distplot(df['Age'], bins=10)"
      ],
      "execution_count": null,
      "outputs": [
        {
          "output_type": "execute_result",
          "data": {
            "text/plain": [
              "<matplotlib.axes._subplots.AxesSubplot at 0x7fbe84b43588>"
            ]
          },
          "metadata": {
            "tags": []
          },
          "execution_count": 438
        },
        {
          "output_type": "display_data",
          "data": {
            "image/png": "[encoded data removed]",
            "text/plain": [
              "<Figure size 432x288 with 1 Axes>"
            ]
          },
          "metadata": {
            "tags": [],
            "needs_background": "light"
          }
        }
      ]
    },
    {
      "cell_type": "code",
      "metadata": {
        "id": "PwK5OlAamDu4"
      },
      "source": [
        "#Creating band of ages with 10 years in each age group\n",
        "df['AgeBand'] = (df['Age']/10).astype('int')*10\n",
        "df_test['AgeBand'] = (df_test['Age']/10).astype('int')*10"
      ],
      "execution_count": null,
      "outputs": []
    },
    {
      "cell_type": "code",
      "metadata": {
        "id": "D2_WmKXgRX-_"
      },
      "source": [
        "#Creating band of ages with 10 years in each age group. Age > 60 is put in last age band of 60\n",
        "df['AgeBand'] =  df['Age'].apply(lambda age: 60 if (age>=60) else (int(age/10)*10))\n",
        "df_test['AgeBand'] =  df_test['Age'].apply(lambda age: 60 if (age>=60) else (int(age/10)*10))"
      ],
      "execution_count": null,
      "outputs": []
    },
    {
      "cell_type": "code",
      "metadata": {
        "id": "FwNRvTbiJ-AB",
        "colab": {
          "base_uri": "https://localhost:8080/"
        },
        "outputId": "fbb2382c-800e-4bc4-c5d6-12186ef0a5ff"
      },
      "source": [
        "sorted(df['AgeBand'].unique())"
      ],
      "execution_count": null,
      "outputs": [
        {
          "output_type": "execute_result",
          "data": {
            "text/plain": [
              "[0, 10, 20, 30, 40, 50, 60]"
            ]
          },
          "metadata": {
            "tags": []
          },
          "execution_count": 441
        }
      ]
    },
    {
      "cell_type": "code",
      "metadata": {
        "id": "a62JhxRLnGSu",
        "colab": {
          "base_uri": "https://localhost:8080/"
        },
        "outputId": "3530c84d-727d-4b2b-eb9c-75200e1af64c"
      },
      "source": [
        "plt.figure(figsize=(8,6))\n",
        "sns.countplot(df['AgeBand'], hue=df['Survived'])"
      ],
      "execution_count": null,
      "outputs": [
        {
          "output_type": "execute_result",
          "data": {
            "text/plain": [
              "<matplotlib.axes._subplots.AxesSubplot at 0x7fbe859bc9b0>"
            ]
          },
          "metadata": {
            "tags": []
          },
          "execution_count": 442
        },
        {
          "output_type": "display_data",
          "data": {
            "image/png": "[encoded data removed]",
            "text/plain": [
              "<Figure size 576x432 with 1 Axes>"
            ]
          },
          "metadata": {
            "tags": [],
            "needs_background": "light"
          }
        }
      ]
    },
    {
      "cell_type": "code",
      "metadata": {
        "id": "LXHBfAMNJL6r",
        "colab": {
          "base_uri": "https://localhost:8080/"
        },
        "outputId": "b3b4b726-0daf-453c-a0ad-6cc3a2cfd4a5"
      },
      "source": [
        "plt.figure(figsize=(8,6))\n",
        "sns.countplot(df_test['AgeBand'], hue=df_test['Survived'])"
      ],
      "execution_count": null,
      "outputs": [
        {
          "output_type": "execute_result",
          "data": {
            "text/plain": [
              "<matplotlib.axes._subplots.AxesSubplot at 0x7fbe8596a3c8>"
            ]
          },
          "metadata": {
            "tags": []
          },
          "execution_count": 443
        },
        {
          "output_type": "display_data",
          "data": {
            "image/png": "[encoded data removed]",
            "text/plain": [
              "<Figure size 576x432 with 1 Axes>"
            ]
          },
          "metadata": {
            "tags": [],
            "needs_background": "light"
          }
        }
      ]
    },
    {
      "cell_type": "code",
      "metadata": {
        "id": "a5zCpkD_obLB",
        "colab": {
          "base_uri": "https://localhost:8080/"
        },
        "outputId": "ac34d59b-85f0-443a-e280-2477130e05e1"
      },
      "source": [
        "df[['AgeBand','Survived']].groupby('AgeBand',as_index=False).mean().sort_values(by='AgeBand')\n",
        "#Survival rate higer for infants and old age people."
      ],
      "execution_count": null,
      "outputs": [
        {
          "output_type": "execute_result",
          "data": {
            "text/html": [
              "<div>\n",
              "<style scoped>\n",
              "    .dataframe tbody tr th:only-of-type {\n",
              "        vertical-align: middle;\n",
              "    }\n",
              "\n",
              "    .dataframe tbody tr th {\n",
              "        vertical-align: top;\n",
              "    }\n",
              "\n",
              "    .dataframe thead th {\n",
              "        text-align: right;\n",
              "    }\n",
              "</style>\n",
              "<table border=\"1\" class=\"dataframe\">\n",
              "  <thead>\n",
              "    <tr style=\"text-align: right;\">\n",
              "      <th></th>\n",
              "      <th>AgeBand</th>\n",
              "      <th>Survived</th>\n",
              "    </tr>\n",
              "  </thead>\n",
              "  <tbody>\n",
              "    <tr>\n",
              "      <th>0</th>\n",
              "      <td>0</td>\n",
              "      <td>0.606061</td>\n",
              "    </tr>\n",
              "    <tr>\n",
              "      <th>1</th>\n",
              "      <td>10</td>\n",
              "      <td>0.401961</td>\n",
              "    </tr>\n",
              "    <tr>\n",
              "      <th>2</th>\n",
              "      <td>20</td>\n",
              "      <td>0.323155</td>\n",
              "    </tr>\n",
              "    <tr>\n",
              "      <th>3</th>\n",
              "      <td>30</td>\n",
              "      <td>0.437126</td>\n",
              "    </tr>\n",
              "    <tr>\n",
              "      <th>4</th>\n",
              "      <td>40</td>\n",
              "      <td>0.382022</td>\n",
              "    </tr>\n",
              "    <tr>\n",
              "      <th>5</th>\n",
              "      <td>50</td>\n",
              "      <td>0.416667</td>\n",
              "    </tr>\n",
              "    <tr>\n",
              "      <th>6</th>\n",
              "      <td>60</td>\n",
              "      <td>0.269231</td>\n",
              "    </tr>\n",
              "  </tbody>\n",
              "</table>\n",
              "</div>"
            ],
            "text/plain": [
              "   AgeBand  Survived\n",
              "0        0  0.606061\n",
              "1       10  0.401961\n",
              "2       20  0.323155\n",
              "3       30  0.437126\n",
              "4       40  0.382022\n",
              "5       50  0.416667\n",
              "6       60  0.269231"
            ]
          },
          "metadata": {
            "tags": []
          },
          "execution_count": 444
        }
      ]
    },
    {
      "cell_type": "code",
      "metadata": {
        "id": "wP8hjzoMHHlV",
        "colab": {
          "base_uri": "https://localhost:8080/"
        },
        "outputId": "78b8e59b-1237-4218-aced-4817e53403b1"
      },
      "source": [
        "df_test[['AgeBand','Survived']].groupby('AgeBand',as_index=False).mean().sort_values(by='AgeBand')\n",
        "#Survival rate higer for infants and old age people."
      ],
      "execution_count": null,
      "outputs": [
        {
          "output_type": "execute_result",
          "data": {
            "text/html": [
              "<div>\n",
              "<style scoped>\n",
              "    .dataframe tbody tr th:only-of-type {\n",
              "        vertical-align: middle;\n",
              "    }\n",
              "\n",
              "    .dataframe tbody tr th {\n",
              "        vertical-align: top;\n",
              "    }\n",
              "\n",
              "    .dataframe thead th {\n",
              "        text-align: right;\n",
              "    }\n",
              "</style>\n",
              "<table border=\"1\" class=\"dataframe\">\n",
              "  <thead>\n",
              "    <tr style=\"text-align: right;\">\n",
              "      <th></th>\n",
              "      <th>AgeBand</th>\n",
              "      <th>Survived</th>\n",
              "    </tr>\n",
              "  </thead>\n",
              "  <tbody>\n",
              "    <tr>\n",
              "      <th>0</th>\n",
              "      <td>0</td>\n",
              "      <td>0.541667</td>\n",
              "    </tr>\n",
              "    <tr>\n",
              "      <th>1</th>\n",
              "      <td>10</td>\n",
              "      <td>0.365854</td>\n",
              "    </tr>\n",
              "    <tr>\n",
              "      <th>2</th>\n",
              "      <td>20</td>\n",
              "      <td>0.339806</td>\n",
              "    </tr>\n",
              "    <tr>\n",
              "      <th>3</th>\n",
              "      <td>30</td>\n",
              "      <td>0.400000</td>\n",
              "    </tr>\n",
              "    <tr>\n",
              "      <th>4</th>\n",
              "      <td>40</td>\n",
              "      <td>0.391304</td>\n",
              "    </tr>\n",
              "    <tr>\n",
              "      <th>5</th>\n",
              "      <td>50</td>\n",
              "      <td>0.545455</td>\n",
              "    </tr>\n",
              "    <tr>\n",
              "      <th>6</th>\n",
              "      <td>60</td>\n",
              "      <td>0.357143</td>\n",
              "    </tr>\n",
              "  </tbody>\n",
              "</table>\n",
              "</div>"
            ],
            "text/plain": [
              "   AgeBand  Survived\n",
              "0        0  0.541667\n",
              "1       10  0.365854\n",
              "2       20  0.339806\n",
              "3       30  0.400000\n",
              "4       40  0.391304\n",
              "5       50  0.545455\n",
              "6       60  0.357143"
            ]
          },
          "metadata": {
            "tags": []
          },
          "execution_count": 445
        }
      ]
    },
    {
      "cell_type": "code",
      "metadata": {
        "id": "_37V1GD6rNUC"
      },
      "source": [
        "#Dropping 'Age' Columns and creating dummies for AgeBand\n",
        "df = df.drop('Age',axis=1)\n",
        "df_test = df_test.drop('Age',axis=1)\n",
        "\n",
        "ageBand_dummies = pd.get_dummies(df['AgeBand'], prefix='AgeBand')\n",
        "df = pd.concat([df.drop('AgeBand',axis=1),ageBand_dummies],axis=1)\n",
        "\n",
        "ageBand_dummies = pd.get_dummies(df_test['AgeBand'], prefix='AgeBand')\n",
        "df_test = pd.concat([df_test.drop('AgeBand',axis=1),ageBand_dummies],axis=1)"
      ],
      "execution_count": null,
      "outputs": []
    },
    {
      "cell_type": "code",
      "metadata": {
        "id": "ZMV6d28MxdJD",
        "colab": {
          "base_uri": "https://localhost:8080/"
        },
        "outputId": "bbcc97b3-b678-4146-f1e2-4c3eb9c900ac"
      },
      "source": [
        "df.info()"
      ],
      "execution_count": null,
      "outputs": [
        {
          "output_type": "stream",
          "text": [
            "<class 'pandas.core.frame.DataFrame'>\n",
            "RangeIndex: 891 entries, 0 to 890\n",
            "Data columns (total 26 columns):\n",
            " #   Column             Non-Null Count  Dtype  \n",
            "---  ------             --------------  -----  \n",
            " 0   PassengerId        891 non-null    int64  \n",
            " 1   Survived           891 non-null    int64  \n",
            " 2   SibSp              891 non-null    int64  \n",
            " 3   Parch              891 non-null    int64  \n",
            " 4   Fare               891 non-null    float64\n",
            " 5   Pclass_1           891 non-null    uint8  \n",
            " 6   Pclass_2           891 non-null    uint8  \n",
            " 7   Pclass_3           891 non-null    uint8  \n",
            " 8   Sex_female         891 non-null    uint8  \n",
            " 9   Sex_male           891 non-null    uint8  \n",
            " 10  Embarked_C         891 non-null    uint8  \n",
            " 11  Embarked_Q         891 non-null    uint8  \n",
            " 12  Embarked_S         891 non-null    uint8  \n",
            " 13  NameTitle_Master   891 non-null    uint8  \n",
            " 14  NameTitle_Miss     891 non-null    uint8  \n",
            " 15  NameTitle_Mr       891 non-null    uint8  \n",
            " 16  NameTitle_Mrs      891 non-null    uint8  \n",
            " 17  NameTitle_Other    891 non-null    uint8  \n",
            " 18  NameTitle_Special  891 non-null    uint8  \n",
            " 19  AgeBand_0          891 non-null    uint8  \n",
            " 20  AgeBand_10         891 non-null    uint8  \n",
            " 21  AgeBand_20         891 non-null    uint8  \n",
            " 22  AgeBand_30         891 non-null    uint8  \n",
            " 23  AgeBand_40         891 non-null    uint8  \n",
            " 24  AgeBand_50         891 non-null    uint8  \n",
            " 25  AgeBand_60         891 non-null    uint8  \n",
            "dtypes: float64(1), int64(4), uint8(21)\n",
            "memory usage: 53.2 KB\n"
          ],
          "name": "stdout"
        }
      ]
    },
    {
      "cell_type": "markdown",
      "metadata": {
        "id": "9HDdOx25BWJ_"
      },
      "source": [
        "#Analysis on Parch and SibSp"
      ]
    },
    {
      "cell_type": "code",
      "metadata": {
        "id": "O7tpA2m5yDFz",
        "colab": {
          "base_uri": "https://localhost:8080/"
        },
        "outputId": "3732ee6e-b855-49c0-c490-93b108bdd8d0"
      },
      "source": [
        "df['SibSp'].value_counts()"
      ],
      "execution_count": null,
      "outputs": [
        {
          "output_type": "execute_result",
          "data": {
            "text/plain": [
              "0    608\n",
              "1    209\n",
              "2     28\n",
              "4     18\n",
              "3     16\n",
              "8      7\n",
              "5      5\n",
              "Name: SibSp, dtype: int64"
            ]
          },
          "metadata": {
            "tags": []
          },
          "execution_count": 448
        }
      ]
    },
    {
      "cell_type": "code",
      "metadata": {
        "id": "zP7e1hTCy_g8",
        "colab": {
          "base_uri": "https://localhost:8080/"
        },
        "outputId": "491c3d0c-1f28-4857-c2b2-72c8b0367cfb"
      },
      "source": [
        "df['SibSp'].unique()"
      ],
      "execution_count": null,
      "outputs": [
        {
          "output_type": "execute_result",
          "data": {
            "text/plain": [
              "array([1, 0, 3, 4, 2, 5, 8])"
            ]
          },
          "metadata": {
            "tags": []
          },
          "execution_count": 449
        }
      ]
    },
    {
      "cell_type": "code",
      "metadata": {
        "id": "G-im6gME52tv",
        "colab": {
          "base_uri": "https://localhost:8080/"
        },
        "outputId": "fb16a52a-1069-425f-96ff-63af82c94e03"
      },
      "source": [
        "sns.countplot(x='SibSp',data=df,hue='Survived')"
      ],
      "execution_count": null,
      "outputs": [
        {
          "output_type": "execute_result",
          "data": {
            "text/plain": [
              "<matplotlib.axes._subplots.AxesSubplot at 0x7fbe85eee208>"
            ]
          },
          "metadata": {
            "tags": []
          },
          "execution_count": 450
        },
        {
          "output_type": "display_data",
          "data": {
            "image/png": "[encoded data removed]",
            "text/plain": [
              "<Figure size 432x288 with 1 Axes>"
            ]
          },
          "metadata": {
            "tags": [],
            "needs_background": "light"
          }
        }
      ]
    },
    {
      "cell_type": "code",
      "metadata": {
        "id": "DAJJGnLn6du6",
        "colab": {
          "base_uri": "https://localhost:8080/"
        },
        "outputId": "0af4feb8-90c9-4ef0-a4d2-c65c4c854c32"
      },
      "source": [
        "df['SibSpBand'] = df['SibSp'].apply(lambda sibsp: 0 if (sibsp ==0) else (1 if ((sibsp ==1) | (sibsp == 2)) else 3 ))\n",
        "df_test['SibSpBand'] = df_test['SibSp'].apply(lambda sibsp: 0 if (sibsp ==0) else (1 if ((sibsp ==1) | (sibsp == 2)) else 3 ))\n",
        "\n",
        "sns.countplot('SibSpBand',hue='Survived',data=df)\n",
        "\n",
        "SibSpBand_dummies = pd.get_dummies(df['SibSpBand'],prefix='SibSpBand')\n",
        "df = pd.concat([df.drop(['SibSpBand'],axis=1),SibSpBand_dummies],axis=1)\n",
        "\n",
        "SibSpBand_dummies = pd.get_dummies(df_test['SibSpBand'],prefix='SibSpBand')\n",
        "df_test = pd.concat([df_test.drop(['SibSpBand'],axis=1),SibSpBand_dummies],axis=1)\n",
        "\n",
        "df = df.drop('SibSp',axis=1)\n",
        "df_test = df_test.drop('SibSp',axis=1)"
      ],
      "execution_count": null,
      "outputs": [
        {
          "output_type": "display_data",
          "data": {
            "image/png": "[encoded data removed]",
            "text/plain": [
              "<Figure size 432x288 with 1 Axes>"
            ]
          },
          "metadata": {
            "tags": [],
            "needs_background": "light"
          }
        }
      ]
    },
    {
      "cell_type": "code",
      "metadata": {
        "id": "MpVv1dCzyj4T",
        "colab": {
          "base_uri": "https://localhost:8080/"
        },
        "outputId": "7e51e9b8-c987-4999-b682-deedc25570f6"
      },
      "source": [
        "df['Parch'].value_counts()"
      ],
      "execution_count": null,
      "outputs": [
        {
          "output_type": "execute_result",
          "data": {
            "text/plain": [
              "0    678\n",
              "1    118\n",
              "2     80\n",
              "5      5\n",
              "3      5\n",
              "4      4\n",
              "6      1\n",
              "Name: Parch, dtype: int64"
            ]
          },
          "metadata": {
            "tags": []
          },
          "execution_count": 452
        }
      ]
    },
    {
      "cell_type": "code",
      "metadata": {
        "id": "zKD-d4nhJYuC",
        "colab": {
          "base_uri": "https://localhost:8080/"
        },
        "outputId": "85caf981-c079-457b-e732-b16dbb97cb15"
      },
      "source": [
        "sns.countplot(x='Parch',hue='Survived',data=df)"
      ],
      "execution_count": null,
      "outputs": [
        {
          "output_type": "execute_result",
          "data": {
            "text/plain": [
              "<matplotlib.axes._subplots.AxesSubplot at 0x7fbe87982b38>"
            ]
          },
          "metadata": {
            "tags": []
          },
          "execution_count": 453
        },
        {
          "output_type": "display_data",
          "data": {
            "image/png": "[encoded data removed]",
            "text/plain": [
              "<Figure size 432x288 with 1 Axes>"
            ]
          },
          "metadata": {
            "tags": [],
            "needs_background": "light"
          }
        }
      ]
    },
    {
      "cell_type": "code",
      "metadata": {
        "id": "KwmAexryJmSu",
        "colab": {
          "base_uri": "https://localhost:8080/"
        },
        "outputId": "d7fe66ce-9dac-4c4d-add9-fc1bbf8e97e9"
      },
      "source": [
        "df[['Parch','Survived']].groupby('Parch', as_index=False).mean()"
      ],
      "execution_count": null,
      "outputs": [
        {
          "output_type": "execute_result",
          "data": {
            "text/html": [
              "<div>\n",
              "<style scoped>\n",
              "    .dataframe tbody tr th:only-of-type {\n",
              "        vertical-align: middle;\n",
              "    }\n",
              "\n",
              "    .dataframe tbody tr th {\n",
              "        vertical-align: top;\n",
              "    }\n",
              "\n",
              "    .dataframe thead th {\n",
              "        text-align: right;\n",
              "    }\n",
              "</style>\n",
              "<table border=\"1\" class=\"dataframe\">\n",
              "  <thead>\n",
              "    <tr style=\"text-align: right;\">\n",
              "      <th></th>\n",
              "      <th>Parch</th>\n",
              "      <th>Survived</th>\n",
              "    </tr>\n",
              "  </thead>\n",
              "  <tbody>\n",
              "    <tr>\n",
              "      <th>0</th>\n",
              "      <td>0</td>\n",
              "      <td>0.343658</td>\n",
              "    </tr>\n",
              "    <tr>\n",
              "      <th>1</th>\n",
              "      <td>1</td>\n",
              "      <td>0.550847</td>\n",
              "    </tr>\n",
              "    <tr>\n",
              "      <th>2</th>\n",
              "      <td>2</td>\n",
              "      <td>0.500000</td>\n",
              "    </tr>\n",
              "    <tr>\n",
              "      <th>3</th>\n",
              "      <td>3</td>\n",
              "      <td>0.600000</td>\n",
              "    </tr>\n",
              "    <tr>\n",
              "      <th>4</th>\n",
              "      <td>4</td>\n",
              "      <td>0.000000</td>\n",
              "    </tr>\n",
              "    <tr>\n",
              "      <th>5</th>\n",
              "      <td>5</td>\n",
              "      <td>0.200000</td>\n",
              "    </tr>\n",
              "    <tr>\n",
              "      <th>6</th>\n",
              "      <td>6</td>\n",
              "      <td>0.000000</td>\n",
              "    </tr>\n",
              "  </tbody>\n",
              "</table>\n",
              "</div>"
            ],
            "text/plain": [
              "   Parch  Survived\n",
              "0      0  0.343658\n",
              "1      1  0.550847\n",
              "2      2  0.500000\n",
              "3      3  0.600000\n",
              "4      4  0.000000\n",
              "5      5  0.200000\n",
              "6      6  0.000000"
            ]
          },
          "metadata": {
            "tags": []
          },
          "execution_count": 454
        }
      ]
    },
    {
      "cell_type": "code",
      "metadata": {
        "id": "KTEKBWak80jm",
        "colab": {
          "base_uri": "https://localhost:8080/"
        },
        "outputId": "c962653e-bbae-4324-ec66-1296bb4cae51"
      },
      "source": [
        "df['ParchBand'] = df['Parch'].apply(lambda parch: 0 if (parch == 0) else (1 if ((parch == 1) | (parch==2) | (parch==3)) else 2))\n",
        "df_test['ParchBand'] = df_test['Parch'].apply(lambda parch: 0 if (parch == 0) else (1 if ((parch == 1) | (parch==2) | (parch==3)) else 2))\n",
        "\n",
        "sns.countplot('ParchBand',hue='Survived',data=df)\n",
        "\n",
        "ParchBand_dummies = pd.get_dummies(df['ParchBand'],prefix='ParchBand')\n",
        "df = pd.concat([df.drop('ParchBand',axis=1),ParchBand_dummies],axis=1)\n",
        "\n",
        "ParchBand_dummies = pd.get_dummies(df_test['ParchBand'],prefix='ParchBand')\n",
        "df_test = pd.concat([df_test.drop('ParchBand',axis=1),ParchBand_dummies],axis=1)\n",
        "\n",
        "df = df.drop('Parch',axis=1)\n",
        "df_test = df_test.drop('Parch',axis=1)"
      ],
      "execution_count": null,
      "outputs": [
        {
          "output_type": "display_data",
          "data": {
            "image/png": "[encoded data removed]",
            "text/plain": [
              "<Figure size 432x288 with 1 Axes>"
            ]
          },
          "metadata": {
            "tags": [],
            "needs_background": "light"
          }
        }
      ]
    },
    {
      "cell_type": "markdown",
      "metadata": {
        "id": "6mRS7uF8xak3"
      },
      "source": [
        "**Create a new column Family with True for passenger with Family **"
      ]
    },
    {
      "cell_type": "code",
      "metadata": {
        "id": "N2GaGdWQ3ue4"
      },
      "source": [
        "#df['Family'] = df['SibSp'] | df['Parch']\n",
        "#df_test['Family'] = df_test['SibSp'] | df_test['Parch']\n",
        "\n",
        "\n",
        "## Mark Family as 1 if there is any sibling or Parent/child\n",
        "#df['Family'] = df['Family'].apply(lambda count: count>0)\n",
        "#df_test['Family'] = df_test['Family'].apply(lambda count: count>0)\n",
        "\n",
        "#sns.countplot(df['Family'],hue=df['Survived'])\n",
        "\n",
        "#df = df.drop(['SibSp','Parch'],axis=1)\n",
        "#df_test = df_test.drop(['SibSp','Parch'],axis=1)"
      ],
      "execution_count": null,
      "outputs": []
    },
    {
      "cell_type": "markdown",
      "metadata": {
        "id": "80rpGU6sCTd6"
      },
      "source": [
        "#Analysis of Fare Column"
      ]
    },
    {
      "cell_type": "code",
      "metadata": {
        "id": "9hjO5s5rgUpn",
        "colab": {
          "base_uri": "https://localhost:8080/"
        },
        "outputId": "476e24d7-d56d-4615-80c4-4245a4f47111"
      },
      "source": [
        "df['Fare'].isnull().sum(), df_test['Fare'].isnull().sum()"
      ],
      "execution_count": null,
      "outputs": [
        {
          "output_type": "execute_result",
          "data": {
            "text/plain": [
              "(0, 1)"
            ]
          },
          "metadata": {
            "tags": []
          },
          "execution_count": 457
        }
      ]
    },
    {
      "cell_type": "code",
      "metadata": {
        "id": "vB_QRjRcusNG",
        "colab": {
          "base_uri": "https://localhost:8080/"
        },
        "outputId": "2a416567-b08a-4d24-f84c-3cb0a8aee53e"
      },
      "source": [
        "sns.distplot(df['Fare'], bins=10,)"
      ],
      "execution_count": null,
      "outputs": [
        {
          "output_type": "execute_result",
          "data": {
            "text/plain": [
              "<matplotlib.axes._subplots.AxesSubplot at 0x7fbe87871e48>"
            ]
          },
          "metadata": {
            "tags": []
          },
          "execution_count": 458
        },
        {
          "output_type": "display_data",
          "data": {
            "image/png": "[encoded data removed]",
            "text/plain": [
              "<Figure size 432x288 with 1 Axes>"
            ]
          },
          "metadata": {
            "tags": [],
            "needs_background": "light"
          }
        }
      ]
    },
    {
      "cell_type": "code",
      "metadata": {
        "id": "dsm9C37nhrOV",
        "colab": {
          "base_uri": "https://localhost:8080/"
        },
        "outputId": "d10cf04d-0182-4400-b3fe-0e912bf17858"
      },
      "source": [
        "df[(df['Fare']>100)][['Fare','Survived']]"
      ],
      "execution_count": null,
      "outputs": [
        {
          "output_type": "execute_result",
          "data": {
            "text/html": [
              "<div>\n",
              "<style scoped>\n",
              "    .dataframe tbody tr th:only-of-type {\n",
              "        vertical-align: middle;\n",
              "    }\n",
              "\n",
              "    .dataframe tbody tr th {\n",
              "        vertical-align: top;\n",
              "    }\n",
              "\n",
              "    .dataframe thead th {\n",
              "        text-align: right;\n",
              "    }\n",
              "</style>\n",
              "<table border=\"1\" class=\"dataframe\">\n",
              "  <thead>\n",
              "    <tr style=\"text-align: right;\">\n",
              "      <th></th>\n",
              "      <th>Fare</th>\n",
              "      <th>Survived</th>\n",
              "    </tr>\n",
              "  </thead>\n",
              "  <tbody>\n",
              "    <tr>\n",
              "      <th>27</th>\n",
              "      <td>263.0000</td>\n",
              "      <td>0</td>\n",
              "    </tr>\n",
              "    <tr>\n",
              "      <th>31</th>\n",
              "      <td>146.5208</td>\n",
              "      <td>1</td>\n",
              "    </tr>\n",
              "    <tr>\n",
              "      <th>88</th>\n",
              "      <td>263.0000</td>\n",
              "      <td>1</td>\n",
              "    </tr>\n",
              "    <tr>\n",
              "      <th>118</th>\n",
              "      <td>247.5208</td>\n",
              "      <td>0</td>\n",
              "    </tr>\n",
              "    <tr>\n",
              "      <th>195</th>\n",
              "      <td>146.5208</td>\n",
              "      <td>1</td>\n",
              "    </tr>\n",
              "    <tr>\n",
              "      <th>215</th>\n",
              "      <td>113.2750</td>\n",
              "      <td>1</td>\n",
              "    </tr>\n",
              "    <tr>\n",
              "      <th>258</th>\n",
              "      <td>512.3292</td>\n",
              "      <td>1</td>\n",
              "    </tr>\n",
              "    <tr>\n",
              "      <th>268</th>\n",
              "      <td>153.4625</td>\n",
              "      <td>1</td>\n",
              "    </tr>\n",
              "    <tr>\n",
              "      <th>269</th>\n",
              "      <td>135.6333</td>\n",
              "      <td>1</td>\n",
              "    </tr>\n",
              "    <tr>\n",
              "      <th>297</th>\n",
              "      <td>151.5500</td>\n",
              "      <td>0</td>\n",
              "    </tr>\n",
              "    <tr>\n",
              "      <th>299</th>\n",
              "      <td>247.5208</td>\n",
              "      <td>1</td>\n",
              "    </tr>\n",
              "    <tr>\n",
              "      <th>305</th>\n",
              "      <td>151.5500</td>\n",
              "      <td>1</td>\n",
              "    </tr>\n",
              "    <tr>\n",
              "      <th>306</th>\n",
              "      <td>110.8833</td>\n",
              "      <td>1</td>\n",
              "    </tr>\n",
              "    <tr>\n",
              "      <th>307</th>\n",
              "      <td>108.9000</td>\n",
              "      <td>1</td>\n",
              "    </tr>\n",
              "    <tr>\n",
              "      <th>311</th>\n",
              "      <td>262.3750</td>\n",
              "      <td>1</td>\n",
              "    </tr>\n",
              "    <tr>\n",
              "      <th>318</th>\n",
              "      <td>164.8667</td>\n",
              "      <td>1</td>\n",
              "    </tr>\n",
              "    <tr>\n",
              "      <th>319</th>\n",
              "      <td>134.5000</td>\n",
              "      <td>1</td>\n",
              "    </tr>\n",
              "    <tr>\n",
              "      <th>325</th>\n",
              "      <td>135.6333</td>\n",
              "      <td>1</td>\n",
              "    </tr>\n",
              "    <tr>\n",
              "      <th>332</th>\n",
              "      <td>153.4625</td>\n",
              "      <td>0</td>\n",
              "    </tr>\n",
              "    <tr>\n",
              "      <th>334</th>\n",
              "      <td>133.6500</td>\n",
              "      <td>1</td>\n",
              "    </tr>\n",
              "    <tr>\n",
              "      <th>337</th>\n",
              "      <td>134.5000</td>\n",
              "      <td>1</td>\n",
              "    </tr>\n",
              "    <tr>\n",
              "      <th>341</th>\n",
              "      <td>263.0000</td>\n",
              "      <td>1</td>\n",
              "    </tr>\n",
              "    <tr>\n",
              "      <th>373</th>\n",
              "      <td>135.6333</td>\n",
              "      <td>0</td>\n",
              "    </tr>\n",
              "    <tr>\n",
              "      <th>377</th>\n",
              "      <td>211.5000</td>\n",
              "      <td>0</td>\n",
              "    </tr>\n",
              "    <tr>\n",
              "      <th>380</th>\n",
              "      <td>227.5250</td>\n",
              "      <td>1</td>\n",
              "    </tr>\n",
              "    <tr>\n",
              "      <th>390</th>\n",
              "      <td>120.0000</td>\n",
              "      <td>1</td>\n",
              "    </tr>\n",
              "    <tr>\n",
              "      <th>393</th>\n",
              "      <td>113.2750</td>\n",
              "      <td>1</td>\n",
              "    </tr>\n",
              "    <tr>\n",
              "      <th>435</th>\n",
              "      <td>120.0000</td>\n",
              "      <td>1</td>\n",
              "    </tr>\n",
              "    <tr>\n",
              "      <th>438</th>\n",
              "      <td>263.0000</td>\n",
              "      <td>0</td>\n",
              "    </tr>\n",
              "    <tr>\n",
              "      <th>498</th>\n",
              "      <td>151.5500</td>\n",
              "      <td>0</td>\n",
              "    </tr>\n",
              "    <tr>\n",
              "      <th>505</th>\n",
              "      <td>108.9000</td>\n",
              "      <td>0</td>\n",
              "    </tr>\n",
              "    <tr>\n",
              "      <th>527</th>\n",
              "      <td>221.7792</td>\n",
              "      <td>0</td>\n",
              "    </tr>\n",
              "    <tr>\n",
              "      <th>537</th>\n",
              "      <td>106.4250</td>\n",
              "      <td>1</td>\n",
              "    </tr>\n",
              "    <tr>\n",
              "      <th>544</th>\n",
              "      <td>106.4250</td>\n",
              "      <td>0</td>\n",
              "    </tr>\n",
              "    <tr>\n",
              "      <th>550</th>\n",
              "      <td>110.8833</td>\n",
              "      <td>1</td>\n",
              "    </tr>\n",
              "    <tr>\n",
              "      <th>557</th>\n",
              "      <td>227.5250</td>\n",
              "      <td>0</td>\n",
              "    </tr>\n",
              "    <tr>\n",
              "      <th>581</th>\n",
              "      <td>110.8833</td>\n",
              "      <td>1</td>\n",
              "    </tr>\n",
              "    <tr>\n",
              "      <th>609</th>\n",
              "      <td>153.4625</td>\n",
              "      <td>1</td>\n",
              "    </tr>\n",
              "    <tr>\n",
              "      <th>659</th>\n",
              "      <td>113.2750</td>\n",
              "      <td>0</td>\n",
              "    </tr>\n",
              "    <tr>\n",
              "      <th>660</th>\n",
              "      <td>133.6500</td>\n",
              "      <td>1</td>\n",
              "    </tr>\n",
              "    <tr>\n",
              "      <th>679</th>\n",
              "      <td>512.3292</td>\n",
              "      <td>1</td>\n",
              "    </tr>\n",
              "    <tr>\n",
              "      <th>689</th>\n",
              "      <td>211.3375</td>\n",
              "      <td>1</td>\n",
              "    </tr>\n",
              "    <tr>\n",
              "      <th>698</th>\n",
              "      <td>110.8833</td>\n",
              "      <td>0</td>\n",
              "    </tr>\n",
              "    <tr>\n",
              "      <th>700</th>\n",
              "      <td>227.5250</td>\n",
              "      <td>1</td>\n",
              "    </tr>\n",
              "    <tr>\n",
              "      <th>708</th>\n",
              "      <td>151.5500</td>\n",
              "      <td>1</td>\n",
              "    </tr>\n",
              "    <tr>\n",
              "      <th>716</th>\n",
              "      <td>227.5250</td>\n",
              "      <td>1</td>\n",
              "    </tr>\n",
              "    <tr>\n",
              "      <th>730</th>\n",
              "      <td>211.3375</td>\n",
              "      <td>1</td>\n",
              "    </tr>\n",
              "    <tr>\n",
              "      <th>737</th>\n",
              "      <td>512.3292</td>\n",
              "      <td>1</td>\n",
              "    </tr>\n",
              "    <tr>\n",
              "      <th>742</th>\n",
              "      <td>262.3750</td>\n",
              "      <td>1</td>\n",
              "    </tr>\n",
              "    <tr>\n",
              "      <th>763</th>\n",
              "      <td>120.0000</td>\n",
              "      <td>1</td>\n",
              "    </tr>\n",
              "    <tr>\n",
              "      <th>779</th>\n",
              "      <td>211.3375</td>\n",
              "      <td>1</td>\n",
              "    </tr>\n",
              "    <tr>\n",
              "      <th>802</th>\n",
              "      <td>120.0000</td>\n",
              "      <td>1</td>\n",
              "    </tr>\n",
              "    <tr>\n",
              "      <th>856</th>\n",
              "      <td>164.8667</td>\n",
              "      <td>1</td>\n",
              "    </tr>\n",
              "  </tbody>\n",
              "</table>\n",
              "</div>"
            ],
            "text/plain": [
              "         Fare  Survived\n",
              "27   263.0000         0\n",
              "31   146.5208         1\n",
              "88   263.0000         1\n",
              "118  247.5208         0\n",
              "195  146.5208         1\n",
              "215  113.2750         1\n",
              "258  512.3292         1\n",
              "268  153.4625         1\n",
              "269  135.6333         1\n",
              "297  151.5500         0\n",
              "299  247.5208         1\n",
              "305  151.5500         1\n",
              "306  110.8833         1\n",
              "307  108.9000         1\n",
              "311  262.3750         1\n",
              "318  164.8667         1\n",
              "319  134.5000         1\n",
              "325  135.6333         1\n",
              "332  153.4625         0\n",
              "334  133.6500         1\n",
              "337  134.5000         1\n",
              "341  263.0000         1\n",
              "373  135.6333         0\n",
              "377  211.5000         0\n",
              "380  227.5250         1\n",
              "390  120.0000         1\n",
              "393  113.2750         1\n",
              "435  120.0000         1\n",
              "438  263.0000         0\n",
              "498  151.5500         0\n",
              "505  108.9000         0\n",
              "527  221.7792         0\n",
              "537  106.4250         1\n",
              "544  106.4250         0\n",
              "550  110.8833         1\n",
              "557  227.5250         0\n",
              "581  110.8833         1\n",
              "609  153.4625         1\n",
              "659  113.2750         0\n",
              "660  133.6500         1\n",
              "679  512.3292         1\n",
              "689  211.3375         1\n",
              "698  110.8833         0\n",
              "700  227.5250         1\n",
              "708  151.5500         1\n",
              "716  227.5250         1\n",
              "730  211.3375         1\n",
              "737  512.3292         1\n",
              "742  262.3750         1\n",
              "763  120.0000         1\n",
              "779  211.3375         1\n",
              "802  120.0000         1\n",
              "856  164.8667         1"
            ]
          },
          "metadata": {
            "tags": []
          },
          "execution_count": 459
        }
      ]
    },
    {
      "cell_type": "code",
      "metadata": {
        "id": "nPQ-GvgDiyN4",
        "colab": {
          "base_uri": "https://localhost:8080/"
        },
        "outputId": "24b5e0d1-c72d-4da6-d15a-0fcb26928704"
      },
      "source": [
        "df_test[(df_test['Fare']>100)&(df_test['Sex_female'] == 0)][['Fare','Survived','Sex_female','Sex_male']].sort_values('Fare')"
      ],
      "execution_count": null,
      "outputs": [
        {
          "output_type": "execute_result",
          "data": {
            "text/html": [
              "<div>\n",
              "<style scoped>\n",
              "    .dataframe tbody tr th:only-of-type {\n",
              "        vertical-align: middle;\n",
              "    }\n",
              "\n",
              "    .dataframe tbody tr th {\n",
              "        vertical-align: top;\n",
              "    }\n",
              "\n",
              "    .dataframe thead th {\n",
              "        text-align: right;\n",
              "    }\n",
              "</style>\n",
              "<table border=\"1\" class=\"dataframe\">\n",
              "  <thead>\n",
              "    <tr style=\"text-align: right;\">\n",
              "      <th></th>\n",
              "      <th>Fare</th>\n",
              "      <th>Survived</th>\n",
              "      <th>Sex_female</th>\n",
              "      <th>Sex_male</th>\n",
              "    </tr>\n",
              "  </thead>\n",
              "  <tbody>\n",
              "    <tr>\n",
              "      <th>196</th>\n",
              "      <td>134.5000</td>\n",
              "      <td>1</td>\n",
              "      <td>0</td>\n",
              "      <td>1</td>\n",
              "    </tr>\n",
              "    <tr>\n",
              "      <th>242</th>\n",
              "      <td>134.5000</td>\n",
              "      <td>1</td>\n",
              "      <td>0</td>\n",
              "      <td>1</td>\n",
              "    </tr>\n",
              "    <tr>\n",
              "      <th>252</th>\n",
              "      <td>136.7792</td>\n",
              "      <td>0</td>\n",
              "      <td>0</td>\n",
              "      <td>1</td>\n",
              "    </tr>\n",
              "    <tr>\n",
              "      <th>316</th>\n",
              "      <td>146.5208</td>\n",
              "      <td>0</td>\n",
              "      <td>0</td>\n",
              "      <td>1</td>\n",
              "    </tr>\n",
              "    <tr>\n",
              "      <th>306</th>\n",
              "      <td>151.5500</td>\n",
              "      <td>0</td>\n",
              "      <td>0</td>\n",
              "      <td>1</td>\n",
              "    </tr>\n",
              "    <tr>\n",
              "      <th>217</th>\n",
              "      <td>164.8667</td>\n",
              "      <td>0</td>\n",
              "      <td>0</td>\n",
              "      <td>1</td>\n",
              "    </tr>\n",
              "    <tr>\n",
              "      <th>75</th>\n",
              "      <td>211.5000</td>\n",
              "      <td>0</td>\n",
              "      <td>0</td>\n",
              "      <td>1</td>\n",
              "    </tr>\n",
              "    <tr>\n",
              "      <th>407</th>\n",
              "      <td>211.5000</td>\n",
              "      <td>0</td>\n",
              "      <td>0</td>\n",
              "      <td>1</td>\n",
              "    </tr>\n",
              "    <tr>\n",
              "      <th>81</th>\n",
              "      <td>221.7792</td>\n",
              "      <td>0</td>\n",
              "      <td>0</td>\n",
              "      <td>1</td>\n",
              "    </tr>\n",
              "    <tr>\n",
              "      <th>202</th>\n",
              "      <td>227.5250</td>\n",
              "      <td>0</td>\n",
              "      <td>0</td>\n",
              "      <td>1</td>\n",
              "    </tr>\n",
              "    <tr>\n",
              "      <th>64</th>\n",
              "      <td>262.3750</td>\n",
              "      <td>1</td>\n",
              "      <td>0</td>\n",
              "      <td>1</td>\n",
              "    </tr>\n",
              "    <tr>\n",
              "      <th>142</th>\n",
              "      <td>262.3750</td>\n",
              "      <td>0</td>\n",
              "      <td>0</td>\n",
              "      <td>1</td>\n",
              "    </tr>\n",
              "  </tbody>\n",
              "</table>\n",
              "</div>"
            ],
            "text/plain": [
              "         Fare  Survived  Sex_female  Sex_male\n",
              "196  134.5000         1           0         1\n",
              "242  134.5000         1           0         1\n",
              "252  136.7792         0           0         1\n",
              "316  146.5208         0           0         1\n",
              "306  151.5500         0           0         1\n",
              "217  164.8667         0           0         1\n",
              "75   211.5000         0           0         1\n",
              "407  211.5000         0           0         1\n",
              "81   221.7792         0           0         1\n",
              "202  227.5250         0           0         1\n",
              "64   262.3750         1           0         1\n",
              "142  262.3750         0           0         1"
            ]
          },
          "metadata": {
            "tags": []
          },
          "execution_count": 460
        }
      ]
    },
    {
      "cell_type": "code",
      "metadata": {
        "id": "2VPjOKeHFPy7",
        "colab": {
          "base_uri": "https://localhost:8080/"
        },
        "outputId": "aab5c723-60d8-464d-f2e5-9f4b90781978"
      },
      "source": [
        "#There is 1 missing value in Test data. Filling that with Median fare value.\n",
        "median_fare = df_test['Fare'].mean()\n",
        "df_test['Fare'] = df_test['Fare'].fillna(median_fare)\n",
        "print(f'Filled test data NaN Fare with {median_fare}')"
      ],
      "execution_count": null,
      "outputs": [
        {
          "output_type": "stream",
          "text": [
            "Filled test data NaN Fare with 35.6271884892086\n"
          ],
          "name": "stdout"
        }
      ]
    },
    {
      "cell_type": "code",
      "metadata": {
        "id": "xCdsR3nf1uNM",
        "colab": {
          "base_uri": "https://localhost:8080/"
        },
        "outputId": "bb517817-8fe9-41d3-c61e-1ea5b572cb17"
      },
      "source": [
        "sns.boxplot(x='Survived',y='Fare',data=df)"
      ],
      "execution_count": null,
      "outputs": [
        {
          "output_type": "execute_result",
          "data": {
            "text/plain": [
              "<matplotlib.axes._subplots.AxesSubplot at 0x7fbe877577f0>"
            ]
          },
          "metadata": {
            "tags": []
          },
          "execution_count": 462
        },
        {
          "output_type": "display_data",
          "data": {
            "image/png": "[encoded data removed]",
            "text/plain": [
              "<Figure size 432x288 with 1 Axes>"
            ]
          },
          "metadata": {
            "tags": [],
            "needs_background": "light"
          }
        }
      ]
    },
    {
      "cell_type": "code",
      "metadata": {
        "id": "KSBQ5fvoCYbZ",
        "colab": {
          "base_uri": "https://localhost:8080/"
        },
        "outputId": "1f243652-e51e-487c-ee17-33cad7ee9704"
      },
      "source": [
        "df[['Fare','Survived']].groupby(['Fare'], as_index=False).mean().sort_values(by='Survived')"
      ],
      "execution_count": null,
      "outputs": [
        {
          "output_type": "execute_result",
          "data": {
            "text/html": [
              "<div>\n",
              "<style scoped>\n",
              "    .dataframe tbody tr th:only-of-type {\n",
              "        vertical-align: middle;\n",
              "    }\n",
              "\n",
              "    .dataframe tbody tr th {\n",
              "        vertical-align: top;\n",
              "    }\n",
              "\n",
              "    .dataframe thead th {\n",
              "        text-align: right;\n",
              "    }\n",
              "</style>\n",
              "<table border=\"1\" class=\"dataframe\">\n",
              "  <thead>\n",
              "    <tr style=\"text-align: right;\">\n",
              "      <th></th>\n",
              "      <th>Fare</th>\n",
              "      <th>Survived</th>\n",
              "    </tr>\n",
              "  </thead>\n",
              "  <tbody>\n",
              "    <tr>\n",
              "      <th>56</th>\n",
              "      <td>8.7125</td>\n",
              "      <td>0.0</td>\n",
              "    </tr>\n",
              "    <tr>\n",
              "      <th>160</th>\n",
              "      <td>32.3208</td>\n",
              "      <td>0.0</td>\n",
              "    </tr>\n",
              "    <tr>\n",
              "      <th>76</th>\n",
              "      <td>11.5000</td>\n",
              "      <td>0.0</td>\n",
              "    </tr>\n",
              "    <tr>\n",
              "      <th>163</th>\n",
              "      <td>33.5000</td>\n",
              "      <td>0.0</td>\n",
              "    </tr>\n",
              "    <tr>\n",
              "      <th>164</th>\n",
              "      <td>34.0208</td>\n",
              "      <td>0.0</td>\n",
              "    </tr>\n",
              "    <tr>\n",
              "      <th>...</th>\n",
              "      <td>...</td>\n",
              "      <td>...</td>\n",
              "    </tr>\n",
              "    <tr>\n",
              "      <th>161</th>\n",
              "      <td>32.5000</td>\n",
              "      <td>1.0</td>\n",
              "    </tr>\n",
              "    <tr>\n",
              "      <th>77</th>\n",
              "      <td>12.0000</td>\n",
              "      <td>1.0</td>\n",
              "    </tr>\n",
              "    <tr>\n",
              "      <th>79</th>\n",
              "      <td>12.2875</td>\n",
              "      <td>1.0</td>\n",
              "    </tr>\n",
              "    <tr>\n",
              "      <th>44</th>\n",
              "      <td>8.1125</td>\n",
              "      <td>1.0</td>\n",
              "    </tr>\n",
              "    <tr>\n",
              "      <th>247</th>\n",
              "      <td>512.3292</td>\n",
              "      <td>1.0</td>\n",
              "    </tr>\n",
              "  </tbody>\n",
              "</table>\n",
              "<p>248 rows × 2 columns</p>\n",
              "</div>"
            ],
            "text/plain": [
              "         Fare  Survived\n",
              "56     8.7125       0.0\n",
              "160   32.3208       0.0\n",
              "76    11.5000       0.0\n",
              "163   33.5000       0.0\n",
              "164   34.0208       0.0\n",
              "..        ...       ...\n",
              "161   32.5000       1.0\n",
              "77    12.0000       1.0\n",
              "79    12.2875       1.0\n",
              "44     8.1125       1.0\n",
              "247  512.3292       1.0\n",
              "\n",
              "[248 rows x 2 columns]"
            ]
          },
          "metadata": {
            "tags": []
          },
          "execution_count": 463
        }
      ]
    },
    {
      "cell_type": "code",
      "metadata": {
        "id": "QWOeOsqUkHd6"
      },
      "source": [
        "#Putting Fare > 100 in one band and rest in band increment of 10\n",
        "#df['FareBand'] = df['Fare'].apply(lambda fare: 100 if (fare >=100) else (int(fare/10)*10))\n",
        "#df_test['FareBand'] = df_test['Fare'].apply(lambda fare: 100 if (fare >= 100) else (int(fare/10)*10))\n",
        "\n",
        "\n",
        "df['FareBand'] = df['Fare'].apply(lambda fare: \"<10\" if (fare < 10) else (\"10-50\" if ((fare >= 10) & (fare < 50)) else (\"50-100\" if ((fare>=50) & (fare<100)) else \">100\")))\n",
        "df_test['FareBand'] = df_test['Fare'].apply(lambda fare: \"<10\" if (fare < 10) else (\"10-50\" if ((fare >= 10) & (fare < 50)) else (\"50-100\" if ((fare>=50) & (fare<100)) else \">100\")))\n"
      ],
      "execution_count": null,
      "outputs": []
    },
    {
      "cell_type": "code",
      "metadata": {
        "id": "0C-32m0jm6_X",
        "colab": {
          "base_uri": "https://localhost:8080/"
        },
        "outputId": "4915d616-7363-44cb-8203-069c6179b3bc"
      },
      "source": [
        "sns.countplot('FareBand',data=df,hue='Survived')"
      ],
      "execution_count": null,
      "outputs": [
        {
          "output_type": "execute_result",
          "data": {
            "text/plain": [
              "<matplotlib.axes._subplots.AxesSubplot at 0x7fbe877477f0>"
            ]
          },
          "metadata": {
            "tags": []
          },
          "execution_count": 465
        },
        {
          "output_type": "display_data",
          "data": {
            "image/png": "[encoded data removed]",
            "text/plain": [
              "<Figure size 432x288 with 1 Axes>"
            ]
          },
          "metadata": {
            "tags": [],
            "needs_background": "light"
          }
        }
      ]
    },
    {
      "cell_type": "code",
      "metadata": {
        "id": "J2_Z1XEpuCcd",
        "colab": {
          "base_uri": "https://localhost:8080/"
        },
        "outputId": "a1230528-8620-4d4a-d401-5766537f5ca2"
      },
      "source": [
        "df.groupby('FareBand').count()\n"
      ],
      "execution_count": null,
      "outputs": [
        {
          "output_type": "execute_result",
          "data": {
            "text/html": [
              "<div>\n",
              "<style scoped>\n",
              "    .dataframe tbody tr th:only-of-type {\n",
              "        vertical-align: middle;\n",
              "    }\n",
              "\n",
              "    .dataframe tbody tr th {\n",
              "        vertical-align: top;\n",
              "    }\n",
              "\n",
              "    .dataframe thead th {\n",
              "        text-align: right;\n",
              "    }\n",
              "</style>\n",
              "<table border=\"1\" class=\"dataframe\">\n",
              "  <thead>\n",
              "    <tr style=\"text-align: right;\">\n",
              "      <th></th>\n",
              "      <th>PassengerId</th>\n",
              "      <th>Survived</th>\n",
              "      <th>Fare</th>\n",
              "      <th>Pclass_1</th>\n",
              "      <th>Pclass_2</th>\n",
              "      <th>Pclass_3</th>\n",
              "      <th>Sex_female</th>\n",
              "      <th>Sex_male</th>\n",
              "      <th>Embarked_C</th>\n",
              "      <th>Embarked_Q</th>\n",
              "      <th>Embarked_S</th>\n",
              "      <th>NameTitle_Master</th>\n",
              "      <th>NameTitle_Miss</th>\n",
              "      <th>NameTitle_Mr</th>\n",
              "      <th>NameTitle_Mrs</th>\n",
              "      <th>NameTitle_Other</th>\n",
              "      <th>NameTitle_Special</th>\n",
              "      <th>AgeBand_0</th>\n",
              "      <th>AgeBand_10</th>\n",
              "      <th>AgeBand_20</th>\n",
              "      <th>AgeBand_30</th>\n",
              "      <th>AgeBand_40</th>\n",
              "      <th>AgeBand_50</th>\n",
              "      <th>AgeBand_60</th>\n",
              "      <th>SibSpBand_0</th>\n",
              "      <th>SibSpBand_1</th>\n",
              "      <th>SibSpBand_3</th>\n",
              "      <th>ParchBand_0</th>\n",
              "      <th>ParchBand_1</th>\n",
              "      <th>ParchBand_2</th>\n",
              "    </tr>\n",
              "    <tr>\n",
              "      <th>FareBand</th>\n",
              "      <th></th>\n",
              "      <th></th>\n",
              "      <th></th>\n",
              "      <th></th>\n",
              "      <th></th>\n",
              "      <th></th>\n",
              "      <th></th>\n",
              "      <th></th>\n",
              "      <th></th>\n",
              "      <th></th>\n",
              "      <th></th>\n",
              "      <th></th>\n",
              "      <th></th>\n",
              "      <th></th>\n",
              "      <th></th>\n",
              "      <th></th>\n",
              "      <th></th>\n",
              "      <th></th>\n",
              "      <th></th>\n",
              "      <th></th>\n",
              "      <th></th>\n",
              "      <th></th>\n",
              "      <th></th>\n",
              "      <th></th>\n",
              "      <th></th>\n",
              "      <th></th>\n",
              "      <th></th>\n",
              "      <th></th>\n",
              "      <th></th>\n",
              "      <th></th>\n",
              "    </tr>\n",
              "  </thead>\n",
              "  <tbody>\n",
              "    <tr>\n",
              "      <th>10-50</th>\n",
              "      <td>394</td>\n",
              "      <td>394</td>\n",
              "      <td>394</td>\n",
              "      <td>394</td>\n",
              "      <td>394</td>\n",
              "      <td>394</td>\n",
              "      <td>394</td>\n",
              "      <td>394</td>\n",
              "      <td>394</td>\n",
              "      <td>394</td>\n",
              "      <td>394</td>\n",
              "      <td>394</td>\n",
              "      <td>394</td>\n",
              "      <td>394</td>\n",
              "      <td>394</td>\n",
              "      <td>394</td>\n",
              "      <td>394</td>\n",
              "      <td>394</td>\n",
              "      <td>394</td>\n",
              "      <td>394</td>\n",
              "      <td>394</td>\n",
              "      <td>394</td>\n",
              "      <td>394</td>\n",
              "      <td>394</td>\n",
              "      <td>394</td>\n",
              "      <td>394</td>\n",
              "      <td>394</td>\n",
              "      <td>394</td>\n",
              "      <td>394</td>\n",
              "      <td>394</td>\n",
              "    </tr>\n",
              "    <tr>\n",
              "      <th>50-100</th>\n",
              "      <td>108</td>\n",
              "      <td>108</td>\n",
              "      <td>108</td>\n",
              "      <td>108</td>\n",
              "      <td>108</td>\n",
              "      <td>108</td>\n",
              "      <td>108</td>\n",
              "      <td>108</td>\n",
              "      <td>108</td>\n",
              "      <td>108</td>\n",
              "      <td>108</td>\n",
              "      <td>108</td>\n",
              "      <td>108</td>\n",
              "      <td>108</td>\n",
              "      <td>108</td>\n",
              "      <td>108</td>\n",
              "      <td>108</td>\n",
              "      <td>108</td>\n",
              "      <td>108</td>\n",
              "      <td>108</td>\n",
              "      <td>108</td>\n",
              "      <td>108</td>\n",
              "      <td>108</td>\n",
              "      <td>108</td>\n",
              "      <td>108</td>\n",
              "      <td>108</td>\n",
              "      <td>108</td>\n",
              "      <td>108</td>\n",
              "      <td>108</td>\n",
              "      <td>108</td>\n",
              "    </tr>\n",
              "    <tr>\n",
              "      <th>&lt;10</th>\n",
              "      <td>336</td>\n",
              "      <td>336</td>\n",
              "      <td>336</td>\n",
              "      <td>336</td>\n",
              "      <td>336</td>\n",
              "      <td>336</td>\n",
              "      <td>336</td>\n",
              "      <td>336</td>\n",
              "      <td>336</td>\n",
              "      <td>336</td>\n",
              "      <td>336</td>\n",
              "      <td>336</td>\n",
              "      <td>336</td>\n",
              "      <td>336</td>\n",
              "      <td>336</td>\n",
              "      <td>336</td>\n",
              "      <td>336</td>\n",
              "      <td>336</td>\n",
              "      <td>336</td>\n",
              "      <td>336</td>\n",
              "      <td>336</td>\n",
              "      <td>336</td>\n",
              "      <td>336</td>\n",
              "      <td>336</td>\n",
              "      <td>336</td>\n",
              "      <td>336</td>\n",
              "      <td>336</td>\n",
              "      <td>336</td>\n",
              "      <td>336</td>\n",
              "      <td>336</td>\n",
              "    </tr>\n",
              "    <tr>\n",
              "      <th>&gt;100</th>\n",
              "      <td>53</td>\n",
              "      <td>53</td>\n",
              "      <td>53</td>\n",
              "      <td>53</td>\n",
              "      <td>53</td>\n",
              "      <td>53</td>\n",
              "      <td>53</td>\n",
              "      <td>53</td>\n",
              "      <td>53</td>\n",
              "      <td>53</td>\n",
              "      <td>53</td>\n",
              "      <td>53</td>\n",
              "      <td>53</td>\n",
              "      <td>53</td>\n",
              "      <td>53</td>\n",
              "      <td>53</td>\n",
              "      <td>53</td>\n",
              "      <td>53</td>\n",
              "      <td>53</td>\n",
              "      <td>53</td>\n",
              "      <td>53</td>\n",
              "      <td>53</td>\n",
              "      <td>53</td>\n",
              "      <td>53</td>\n",
              "      <td>53</td>\n",
              "      <td>53</td>\n",
              "      <td>53</td>\n",
              "      <td>53</td>\n",
              "      <td>53</td>\n",
              "      <td>53</td>\n",
              "    </tr>\n",
              "  </tbody>\n",
              "</table>\n",
              "</div>"
            ],
            "text/plain": [
              "          PassengerId  Survived  Fare  ...  ParchBand_0  ParchBand_1  ParchBand_2\n",
              "FareBand                               ...                                       \n",
              "10-50             394       394   394  ...          394          394          394\n",
              "50-100            108       108   108  ...          108          108          108\n",
              "<10               336       336   336  ...          336          336          336\n",
              ">100               53        53    53  ...           53           53           53\n",
              "\n",
              "[4 rows x 30 columns]"
            ]
          },
          "metadata": {
            "tags": []
          },
          "execution_count": 466
        }
      ]
    },
    {
      "cell_type": "code",
      "metadata": {
        "id": "Ox1PTPO7DTzh"
      },
      "source": [
        "#df['FareBand'] = (df['Fare']/30).astype(int)\n",
        "#df_test['FareBand'] = (df_test['Fare']/30).astype(int)"
      ],
      "execution_count": null,
      "outputs": []
    },
    {
      "cell_type": "code",
      "metadata": {
        "id": "vwkZ-DwrEAR9",
        "colab": {
          "base_uri": "https://localhost:8080/"
        },
        "outputId": "e9b2ce34-7f46-4aa0-f474-e2244737843a"
      },
      "source": [
        "df[['FareBand','Survived']].groupby(['FareBand'], as_index=False).mean().sort_values(by='FareBand')"
      ],
      "execution_count": null,
      "outputs": [
        {
          "output_type": "execute_result",
          "data": {
            "text/html": [
              "<div>\n",
              "<style scoped>\n",
              "    .dataframe tbody tr th:only-of-type {\n",
              "        vertical-align: middle;\n",
              "    }\n",
              "\n",
              "    .dataframe tbody tr th {\n",
              "        vertical-align: top;\n",
              "    }\n",
              "\n",
              "    .dataframe thead th {\n",
              "        text-align: right;\n",
              "    }\n",
              "</style>\n",
              "<table border=\"1\" class=\"dataframe\">\n",
              "  <thead>\n",
              "    <tr style=\"text-align: right;\">\n",
              "      <th></th>\n",
              "      <th>FareBand</th>\n",
              "      <th>Survived</th>\n",
              "    </tr>\n",
              "  </thead>\n",
              "  <tbody>\n",
              "    <tr>\n",
              "      <th>0</th>\n",
              "      <td>10-50</td>\n",
              "      <td>0.421320</td>\n",
              "    </tr>\n",
              "    <tr>\n",
              "      <th>1</th>\n",
              "      <td>50-100</td>\n",
              "      <td>0.648148</td>\n",
              "    </tr>\n",
              "    <tr>\n",
              "      <th>2</th>\n",
              "      <td>&lt;10</td>\n",
              "      <td>0.199405</td>\n",
              "    </tr>\n",
              "    <tr>\n",
              "      <th>3</th>\n",
              "      <td>&gt;100</td>\n",
              "      <td>0.735849</td>\n",
              "    </tr>\n",
              "  </tbody>\n",
              "</table>\n",
              "</div>"
            ],
            "text/plain": [
              "  FareBand  Survived\n",
              "0    10-50  0.421320\n",
              "1   50-100  0.648148\n",
              "2      <10  0.199405\n",
              "3     >100  0.735849"
            ]
          },
          "metadata": {
            "tags": []
          },
          "execution_count": 468
        }
      ]
    },
    {
      "cell_type": "code",
      "metadata": {
        "id": "xMQ-YAvTEIFl"
      },
      "source": [
        "fare_dummies = pd.get_dummies(df['FareBand'],prefix='FareBand')\n",
        "df = pd.concat([df.drop('FareBand',axis=1),fare_dummies],axis=1)\n",
        "\n",
        "fare_dummies = pd.get_dummies(df_test['FareBand'],prefix='FareBand')\n",
        "df_test = pd.concat([df_test.drop('FareBand',axis=1),fare_dummies],axis=1)\n",
        "\n",
        "df = df.drop('Fare',axis=1)\n",
        "df_test = df_test.drop('Fare',axis=1)"
      ],
      "execution_count": null,
      "outputs": []
    },
    {
      "cell_type": "code",
      "metadata": {
        "id": "JE6fFTfbR4L6",
        "colab": {
          "base_uri": "https://localhost:8080/"
        },
        "outputId": "81c40119-b530-42ed-ae7b-898959ea6a1e"
      },
      "source": [
        "df.shape, df_test.shape"
      ],
      "execution_count": null,
      "outputs": [
        {
          "output_type": "execute_result",
          "data": {
            "text/plain": [
              "((891, 33), (418, 33))"
            ]
          },
          "metadata": {
            "tags": []
          },
          "execution_count": 470
        }
      ]
    },
    {
      "cell_type": "markdown",
      "metadata": {
        "id": "4dNXBQIE1-rG"
      },
      "source": [
        "#Train Test Split"
      ]
    },
    {
      "cell_type": "code",
      "metadata": {
        "id": "tPCGSEDWtPC7",
        "colab": {
          "base_uri": "https://localhost:8080/",
          "height": 51
        },
        "outputId": "0017730a-e82c-47c0-9fb4-b6f8000aa396"
      },
      "source": [
        "from sklearn.model_selection import train_test_split\n",
        "X = df.drop(['Survived','PassengerId'], axis=1)\n",
        "y = df['Survived']\n",
        "\n",
        "X_train, X_test, y_train, y_test = train_test_split(X, y, test_size=0.05, random_state=42)\n",
        "\n",
        "print(f'Train Data Shape: {X_train.shape,y_train.shape}')\n",
        "print(f'Test  Data Shape  {X_test.shape,  y_test.shape}')"
      ],
      "execution_count": null,
      "outputs": [
        {
          "output_type": "stream",
          "text": [
            "Train Data Shape: ((846, 31), (846,))\n",
            "Test  Data Shape  ((45, 31), (45,))\n"
          ],
          "name": "stdout"
        }
      ]
    },
    {
      "cell_type": "markdown",
      "metadata": {
        "id": "W26To1Fb218T"
      },
      "source": [
        "#Data Normalization"
      ]
    },
    {
      "cell_type": "code",
      "metadata": {
        "id": "xpdPwYzk28gY",
        "colab": {
          "base_uri": "https://localhost:8080/",
          "height": 105
        },
        "outputId": "af75d06d-41e2-4030-80c2-ee3e6755dba2"
      },
      "source": [
        "from sklearn.preprocessing import MinMaxScaler\n",
        "\n",
        "scaler = MinMaxScaler()\n",
        "\n",
        "X_train = scaler.fit_transform(X_train)\n",
        "X_test = scaler.transform(X_test)\n",
        "\n",
        "print(f'Train size: {X_train.shape}')\n",
        "print(f'Test Size : {X_test.shape}')\n",
        "print(f'Train Data Columns: {sorted(df.columns)}')\n",
        "print(f'Test Data Columns:  {sorted(df_test.columns)}')"
      ],
      "execution_count": null,
      "outputs": [
        {
          "output_type": "stream",
          "text": [
            "Train size: (846, 31)\n",
            "Test Size : (45, 31)\n",
            "Train Data Columns: ['AgeBand_0', 'AgeBand_10', 'AgeBand_20', 'AgeBand_30', 'AgeBand_40', 'AgeBand_50', 'AgeBand_60', 'Embarked_C', 'Embarked_Q', 'Embarked_S', 'FareBand_10-50', 'FareBand_50-100', 'FareBand_<10', 'FareBand_>100', 'NameTitle_Master', 'NameTitle_Miss', 'NameTitle_Mr', 'NameTitle_Mrs', 'NameTitle_Other', 'NameTitle_Special', 'ParchBand_0', 'ParchBand_1', 'ParchBand_2', 'PassengerId', 'Pclass_1', 'Pclass_2', 'Pclass_3', 'Sex_female', 'Sex_male', 'SibSpBand_0', 'SibSpBand_1', 'SibSpBand_3', 'Survived']\n",
            "Test Data Columns:  ['AgeBand_0', 'AgeBand_10', 'AgeBand_20', 'AgeBand_30', 'AgeBand_40', 'AgeBand_50', 'AgeBand_60', 'Embarked_C', 'Embarked_Q', 'Embarked_S', 'FareBand_10-50', 'FareBand_50-100', 'FareBand_<10', 'FareBand_>100', 'NameTitle_Master', 'NameTitle_Miss', 'NameTitle_Mr', 'NameTitle_Mrs', 'NameTitle_Other', 'NameTitle_Special', 'ParchBand_0', 'ParchBand_1', 'ParchBand_2', 'PassengerId', 'Pclass_1', 'Pclass_2', 'Pclass_3', 'Sex_female', 'Sex_male', 'SibSpBand_0', 'SibSpBand_1', 'SibSpBand_3', 'Survived']\n"
          ],
          "name": "stdout"
        }
      ]
    },
    {
      "cell_type": "markdown",
      "metadata": {
        "id": "TDuxGo4H3ULJ"
      },
      "source": [
        "#Defining Model"
      ]
    },
    {
      "cell_type": "code",
      "metadata": {
        "id": "JbMHMAzO3Rjp"
      },
      "source": [
        "from tensorflow.keras.models import Sequential\n",
        "from tensorflow.keras.layers import Dense, Dropout\n",
        "from tensorflow.keras.optimizers import Adam\n",
        "from tensorflow.keras.callbacks import EarlyStopping\n",
        "\n"
      ],
      "execution_count": null,
      "outputs": []
    },
    {
      "cell_type": "code",
      "metadata": {
        "id": "aqgPH6D74-nN",
        "colab": {
          "base_uri": "https://localhost:8080/",
          "height": 1000
        },
        "outputId": "e06d7119-73d7-4d88-83fb-8410c968cb25"
      },
      "source": [
        "# With 79 % Accuracy\n",
        "model = Sequential()\n",
        "model.add(Dense(27,activation='relu'))\n",
        "model.add(Dropout(0.5))\n",
        "model.add(Dense(20,activation='relu'))\n",
        "model.add(Dropout(0.3))\n",
        "model.add(Dense(10,activation='relu'))\n",
        "model.add(Dropout(0.3))\n",
        "model.add(Dense(10,activation='relu'))\n",
        "#model.add(Dropout(0.3))\n",
        "\n",
        "model.add(Dense(1, activation='sigmoid'))\n",
        "\n",
        "opt = Adam(learning_rate=0.0001)\n",
        "\n",
        "model.compile(optimizer=opt, loss='binary_crossentropy',metrics=['accuracy'])\n",
        "\n",
        "earlyStop = EarlyStopping(monitor='val_loss',patience=2)\n",
        "\n",
        "epochs=200\n",
        "model.fit(x=X_train,y=y_train,batch_size=32,epochs=epochs,\n",
        "          validation_data=(X_test,y_test),callbacks = [earlyStop])\n",
        "\n",
        "metrics = pd.DataFrame(model.history.history)\n",
        "metrics[['accuracy', 'val_accuracy']].plot()\n",
        "metrics[['loss', 'val_loss']].plot()"
      ],
      "execution_count": null,
      "outputs": [
        {
          "output_type": "stream",
          "text": [
            "Epoch 1/200\n",
            "27/27 [==============================] - 0s 6ms/step - loss: 0.6912 - accuracy: 0.5508 - val_loss: 0.6921 - val_accuracy: 0.5111\n",
            "Epoch 2/200\n",
            "27/27 [==============================] - 0s 3ms/step - loss: 0.6894 - accuracy: 0.5615 - val_loss: 0.6898 - val_accuracy: 0.5111\n",
            "Epoch 3/200\n",
            "27/27 [==============================] - 0s 3ms/step - loss: 0.6906 - accuracy: 0.5544 - val_loss: 0.6878 - val_accuracy: 0.6222\n",
            "Epoch 4/200\n",
            "27/27 [==============================] - 0s 3ms/step - loss: 0.6887 - accuracy: 0.5887 - val_loss: 0.6864 - val_accuracy: 0.7111\n",
            "Epoch 5/200\n",
            "27/27 [==============================] - 0s 3ms/step - loss: 0.6872 - accuracy: 0.5792 - val_loss: 0.6851 - val_accuracy: 0.7333\n",
            "Epoch 6/200\n",
            "27/27 [==============================] - 0s 3ms/step - loss: 0.6902 - accuracy: 0.5780 - val_loss: 0.6839 - val_accuracy: 0.7556\n",
            "Epoch 7/200\n",
            "27/27 [==============================] - 0s 3ms/step - loss: 0.6836 - accuracy: 0.6135 - val_loss: 0.6831 - val_accuracy: 0.7778\n",
            "Epoch 8/200\n",
            "27/27 [==============================] - 0s 3ms/step - loss: 0.6788 - accuracy: 0.6206 - val_loss: 0.6820 - val_accuracy: 0.6889\n",
            "Epoch 9/200\n",
            "27/27 [==============================] - 0s 3ms/step - loss: 0.6778 - accuracy: 0.6147 - val_loss: 0.6811 - val_accuracy: 0.6889\n",
            "Epoch 10/200\n",
            "27/27 [==============================] - 0s 3ms/step - loss: 0.6826 - accuracy: 0.5887 - val_loss: 0.6799 - val_accuracy: 0.6889\n",
            "Epoch 11/200\n",
            "27/27 [==============================] - 0s 3ms/step - loss: 0.6792 - accuracy: 0.6170 - val_loss: 0.6785 - val_accuracy: 0.6889\n",
            "Epoch 12/200\n",
            "27/27 [==============================] - 0s 3ms/step - loss: 0.6767 - accuracy: 0.6111 - val_loss: 0.6774 - val_accuracy: 0.6667\n",
            "Epoch 13/200\n",
            "27/27 [==============================] - 0s 4ms/step - loss: 0.6716 - accuracy: 0.6277 - val_loss: 0.6759 - val_accuracy: 0.6667\n",
            "Epoch 14/200\n",
            "27/27 [==============================] - 0s 3ms/step - loss: 0.6695 - accuracy: 0.6277 - val_loss: 0.6743 - val_accuracy: 0.6667\n",
            "Epoch 15/200\n",
            "27/27 [==============================] - 0s 4ms/step - loss: 0.6699 - accuracy: 0.6229 - val_loss: 0.6726 - val_accuracy: 0.6667\n",
            "Epoch 16/200\n",
            "27/27 [==============================] - 0s 3ms/step - loss: 0.6620 - accuracy: 0.6501 - val_loss: 0.6706 - val_accuracy: 0.6444\n",
            "Epoch 17/200\n",
            "27/27 [==============================] - 0s 3ms/step - loss: 0.6645 - accuracy: 0.6454 - val_loss: 0.6685 - val_accuracy: 0.6444\n",
            "Epoch 18/200\n",
            "27/27 [==============================] - 0s 3ms/step - loss: 0.6647 - accuracy: 0.6147 - val_loss: 0.6668 - val_accuracy: 0.6444\n",
            "Epoch 19/200\n",
            "27/27 [==============================] - 0s 3ms/step - loss: 0.6672 - accuracy: 0.6277 - val_loss: 0.6649 - val_accuracy: 0.6444\n",
            "Epoch 20/200\n",
            "27/27 [==============================] - 0s 4ms/step - loss: 0.6611 - accuracy: 0.6194 - val_loss: 0.6628 - val_accuracy: 0.6444\n",
            "Epoch 21/200\n",
            "27/27 [==============================] - 0s 3ms/step - loss: 0.6560 - accuracy: 0.6170 - val_loss: 0.6605 - val_accuracy: 0.6444\n",
            "Epoch 22/200\n",
            "27/27 [==============================] - 0s 3ms/step - loss: 0.6593 - accuracy: 0.6170 - val_loss: 0.6585 - val_accuracy: 0.6444\n",
            "Epoch 23/200\n",
            "27/27 [==============================] - 0s 3ms/step - loss: 0.6586 - accuracy: 0.6277 - val_loss: 0.6564 - val_accuracy: 0.6444\n",
            "Epoch 24/200\n",
            "27/27 [==============================] - 0s 3ms/step - loss: 0.6452 - accuracy: 0.6619 - val_loss: 0.6538 - val_accuracy: 0.6444\n",
            "Epoch 25/200\n",
            "27/27 [==============================] - 0s 3ms/step - loss: 0.6461 - accuracy: 0.6466 - val_loss: 0.6514 - val_accuracy: 0.6444\n",
            "Epoch 26/200\n",
            "27/27 [==============================] - 0s 3ms/step - loss: 0.6402 - accuracy: 0.6478 - val_loss: 0.6489 - val_accuracy: 0.6444\n",
            "Epoch 27/200\n",
            "27/27 [==============================] - 0s 3ms/step - loss: 0.6481 - accuracy: 0.6395 - val_loss: 0.6468 - val_accuracy: 0.6444\n",
            "Epoch 28/200\n",
            "27/27 [==============================] - 0s 3ms/step - loss: 0.6505 - accuracy: 0.6312 - val_loss: 0.6455 - val_accuracy: 0.6444\n",
            "Epoch 29/200\n",
            "27/27 [==============================] - 0s 3ms/step - loss: 0.6367 - accuracy: 0.6525 - val_loss: 0.6431 - val_accuracy: 0.6444\n",
            "Epoch 30/200\n",
            "27/27 [==============================] - 0s 3ms/step - loss: 0.6414 - accuracy: 0.6300 - val_loss: 0.6410 - val_accuracy: 0.6444\n",
            "Epoch 31/200\n",
            "27/27 [==============================] - 0s 3ms/step - loss: 0.6301 - accuracy: 0.6466 - val_loss: 0.6388 - val_accuracy: 0.6667\n",
            "Epoch 32/200\n",
            "27/27 [==============================] - 0s 3ms/step - loss: 0.6359 - accuracy: 0.6525 - val_loss: 0.6369 - val_accuracy: 0.6667\n",
            "Epoch 33/200\n",
            "27/27 [==============================] - 0s 3ms/step - loss: 0.6180 - accuracy: 0.6726 - val_loss: 0.6342 - val_accuracy: 0.6889\n",
            "Epoch 34/200\n",
            "27/27 [==============================] - 0s 3ms/step - loss: 0.6260 - accuracy: 0.6785 - val_loss: 0.6318 - val_accuracy: 0.6889\n",
            "Epoch 35/200\n",
            "27/27 [==============================] - 0s 3ms/step - loss: 0.6302 - accuracy: 0.6466 - val_loss: 0.6298 - val_accuracy: 0.7111\n",
            "Epoch 36/200\n",
            "27/27 [==============================] - 0s 3ms/step - loss: 0.6192 - accuracy: 0.6690 - val_loss: 0.6275 - val_accuracy: 0.7333\n",
            "Epoch 37/200\n",
            "27/27 [==============================] - 0s 3ms/step - loss: 0.6114 - accuracy: 0.6643 - val_loss: 0.6249 - val_accuracy: 0.7333\n",
            "Epoch 38/200\n",
            "27/27 [==============================] - 0s 3ms/step - loss: 0.6094 - accuracy: 0.6797 - val_loss: 0.6223 - val_accuracy: 0.7333\n",
            "Epoch 39/200\n",
            "27/27 [==============================] - 0s 3ms/step - loss: 0.6143 - accuracy: 0.6537 - val_loss: 0.6194 - val_accuracy: 0.7333\n",
            "Epoch 40/200\n",
            "27/27 [==============================] - 0s 3ms/step - loss: 0.5982 - accuracy: 0.6844 - val_loss: 0.6163 - val_accuracy: 0.7333\n",
            "Epoch 41/200\n",
            "27/27 [==============================] - 0s 3ms/step - loss: 0.6101 - accuracy: 0.6655 - val_loss: 0.6139 - val_accuracy: 0.7333\n",
            "Epoch 42/200\n",
            "27/27 [==============================] - 0s 3ms/step - loss: 0.6025 - accuracy: 0.6643 - val_loss: 0.6114 - val_accuracy: 0.7333\n",
            "Epoch 43/200\n",
            "27/27 [==============================] - 0s 3ms/step - loss: 0.6108 - accuracy: 0.6667 - val_loss: 0.6098 - val_accuracy: 0.7333\n",
            "Epoch 44/200\n",
            "27/27 [==============================] - 0s 3ms/step - loss: 0.5940 - accuracy: 0.6832 - val_loss: 0.6080 - val_accuracy: 0.7333\n",
            "Epoch 45/200\n",
            "27/27 [==============================] - 0s 3ms/step - loss: 0.5844 - accuracy: 0.6939 - val_loss: 0.6057 - val_accuracy: 0.7111\n",
            "Epoch 46/200\n",
            "27/27 [==============================] - 0s 3ms/step - loss: 0.6039 - accuracy: 0.6809 - val_loss: 0.6034 - val_accuracy: 0.7111\n",
            "Epoch 47/200\n",
            "27/27 [==============================] - 0s 3ms/step - loss: 0.5908 - accuracy: 0.6974 - val_loss: 0.6015 - val_accuracy: 0.7111\n",
            "Epoch 48/200\n",
            "27/27 [==============================] - 0s 3ms/step - loss: 0.5695 - accuracy: 0.6986 - val_loss: 0.5989 - val_accuracy: 0.7111\n",
            "Epoch 49/200\n",
            "27/27 [==============================] - 0s 3ms/step - loss: 0.5907 - accuracy: 0.6726 - val_loss: 0.5963 - val_accuracy: 0.7111\n",
            "Epoch 50/200\n",
            "27/27 [==============================] - 0s 3ms/step - loss: 0.5924 - accuracy: 0.6950 - val_loss: 0.5938 - val_accuracy: 0.7111\n",
            "Epoch 51/200\n",
            "27/27 [==============================] - 0s 3ms/step - loss: 0.5919 - accuracy: 0.6915 - val_loss: 0.5919 - val_accuracy: 0.7111\n",
            "Epoch 52/200\n",
            "27/27 [==============================] - 0s 3ms/step - loss: 0.5916 - accuracy: 0.6809 - val_loss: 0.5898 - val_accuracy: 0.7111\n",
            "Epoch 53/200\n",
            "27/27 [==============================] - 0s 3ms/step - loss: 0.5712 - accuracy: 0.7258 - val_loss: 0.5868 - val_accuracy: 0.7111\n",
            "Epoch 54/200\n",
            "27/27 [==============================] - 0s 3ms/step - loss: 0.5766 - accuracy: 0.6927 - val_loss: 0.5843 - val_accuracy: 0.7111\n",
            "Epoch 55/200\n",
            "27/27 [==============================] - 0s 3ms/step - loss: 0.5453 - accuracy: 0.7057 - val_loss: 0.5810 - val_accuracy: 0.7111\n",
            "Epoch 56/200\n",
            "27/27 [==============================] - 0s 3ms/step - loss: 0.5777 - accuracy: 0.7045 - val_loss: 0.5789 - val_accuracy: 0.7111\n",
            "Epoch 57/200\n",
            "27/27 [==============================] - 0s 3ms/step - loss: 0.5918 - accuracy: 0.6915 - val_loss: 0.5778 - val_accuracy: 0.7111\n",
            "Epoch 58/200\n",
            "27/27 [==============================] - 0s 3ms/step - loss: 0.5644 - accuracy: 0.6927 - val_loss: 0.5758 - val_accuracy: 0.7111\n",
            "Epoch 59/200\n",
            "27/27 [==============================] - 0s 3ms/step - loss: 0.5765 - accuracy: 0.7104 - val_loss: 0.5733 - val_accuracy: 0.7333\n",
            "Epoch 60/200\n",
            "27/27 [==============================] - 0s 3ms/step - loss: 0.5747 - accuracy: 0.6915 - val_loss: 0.5720 - val_accuracy: 0.7333\n",
            "Epoch 61/200\n",
            "27/27 [==============================] - 0s 3ms/step - loss: 0.5717 - accuracy: 0.7128 - val_loss: 0.5707 - val_accuracy: 0.7333\n",
            "Epoch 62/200\n",
            "27/27 [==============================] - 0s 3ms/step - loss: 0.5674 - accuracy: 0.7163 - val_loss: 0.5689 - val_accuracy: 0.7333\n",
            "Epoch 63/200\n",
            "27/27 [==============================] - 0s 3ms/step - loss: 0.5802 - accuracy: 0.6927 - val_loss: 0.5677 - val_accuracy: 0.7333\n",
            "Epoch 64/200\n",
            "27/27 [==============================] - 0s 3ms/step - loss: 0.5576 - accuracy: 0.7080 - val_loss: 0.5659 - val_accuracy: 0.7333\n",
            "Epoch 65/200\n",
            "27/27 [==============================] - 0s 3ms/step - loss: 0.5635 - accuracy: 0.7199 - val_loss: 0.5648 - val_accuracy: 0.7333\n",
            "Epoch 66/200\n",
            "27/27 [==============================] - 0s 3ms/step - loss: 0.5703 - accuracy: 0.7080 - val_loss: 0.5637 - val_accuracy: 0.7333\n",
            "Epoch 67/200\n",
            "27/27 [==============================] - 0s 3ms/step - loss: 0.5737 - accuracy: 0.7139 - val_loss: 0.5624 - val_accuracy: 0.7111\n",
            "Epoch 68/200\n",
            "27/27 [==============================] - 0s 3ms/step - loss: 0.5553 - accuracy: 0.7222 - val_loss: 0.5618 - val_accuracy: 0.7111\n",
            "Epoch 69/200\n",
            "27/27 [==============================] - 0s 3ms/step - loss: 0.5450 - accuracy: 0.7187 - val_loss: 0.5599 - val_accuracy: 0.7111\n",
            "Epoch 70/200\n",
            "27/27 [==============================] - 0s 3ms/step - loss: 0.5505 - accuracy: 0.7246 - val_loss: 0.5579 - val_accuracy: 0.7111\n",
            "Epoch 71/200\n",
            "27/27 [==============================] - 0s 3ms/step - loss: 0.5479 - accuracy: 0.7340 - val_loss: 0.5560 - val_accuracy: 0.7111\n",
            "Epoch 72/200\n",
            "27/27 [==============================] - 0s 3ms/step - loss: 0.5654 - accuracy: 0.7163 - val_loss: 0.5547 - val_accuracy: 0.7111\n",
            "Epoch 73/200\n",
            "27/27 [==============================] - 0s 3ms/step - loss: 0.5329 - accuracy: 0.7352 - val_loss: 0.5533 - val_accuracy: 0.7111\n",
            "Epoch 74/200\n",
            "27/27 [==============================] - 0s 3ms/step - loss: 0.5625 - accuracy: 0.7151 - val_loss: 0.5522 - val_accuracy: 0.7111\n",
            "Epoch 75/200\n",
            "27/27 [==============================] - 0s 3ms/step - loss: 0.5659 - accuracy: 0.7234 - val_loss: 0.5512 - val_accuracy: 0.7111\n",
            "Epoch 76/200\n",
            "27/27 [==============================] - 0s 3ms/step - loss: 0.5406 - accuracy: 0.7447 - val_loss: 0.5496 - val_accuracy: 0.7111\n",
            "Epoch 77/200\n",
            "27/27 [==============================] - 0s 3ms/step - loss: 0.5545 - accuracy: 0.7281 - val_loss: 0.5481 - val_accuracy: 0.7111\n",
            "Epoch 78/200\n",
            "27/27 [==============================] - 0s 3ms/step - loss: 0.5435 - accuracy: 0.7459 - val_loss: 0.5467 - val_accuracy: 0.7111\n",
            "Epoch 79/200\n",
            "27/27 [==============================] - 0s 3ms/step - loss: 0.5517 - accuracy: 0.7411 - val_loss: 0.5448 - val_accuracy: 0.7111\n",
            "Epoch 80/200\n",
            "27/27 [==============================] - 0s 3ms/step - loss: 0.5480 - accuracy: 0.7565 - val_loss: 0.5435 - val_accuracy: 0.7111\n",
            "Epoch 81/200\n",
            "27/27 [==============================] - 0s 3ms/step - loss: 0.5395 - accuracy: 0.7470 - val_loss: 0.5423 - val_accuracy: 0.7333\n",
            "Epoch 82/200\n",
            "27/27 [==============================] - 0s 3ms/step - loss: 0.5312 - accuracy: 0.7506 - val_loss: 0.5407 - val_accuracy: 0.7333\n",
            "Epoch 83/200\n",
            "27/27 [==============================] - 0s 3ms/step - loss: 0.5388 - accuracy: 0.7482 - val_loss: 0.5389 - val_accuracy: 0.7333\n",
            "Epoch 84/200\n",
            "27/27 [==============================] - 0s 3ms/step - loss: 0.5345 - accuracy: 0.7482 - val_loss: 0.5365 - val_accuracy: 0.7333\n",
            "Epoch 85/200\n",
            "27/27 [==============================] - 0s 3ms/step - loss: 0.5493 - accuracy: 0.7447 - val_loss: 0.5352 - val_accuracy: 0.7333\n",
            "Epoch 86/200\n",
            "27/27 [==============================] - 0s 3ms/step - loss: 0.5501 - accuracy: 0.7506 - val_loss: 0.5336 - val_accuracy: 0.7333\n",
            "Epoch 87/200\n",
            "27/27 [==============================] - 0s 3ms/step - loss: 0.5327 - accuracy: 0.7530 - val_loss: 0.5326 - val_accuracy: 0.7333\n",
            "Epoch 88/200\n",
            "27/27 [==============================] - 0s 3ms/step - loss: 0.5464 - accuracy: 0.7329 - val_loss: 0.5320 - val_accuracy: 0.7333\n",
            "Epoch 89/200\n",
            "27/27 [==============================] - 0s 3ms/step - loss: 0.5383 - accuracy: 0.7518 - val_loss: 0.5311 - val_accuracy: 0.7333\n",
            "Epoch 90/200\n",
            "27/27 [==============================] - 0s 3ms/step - loss: 0.5423 - accuracy: 0.7281 - val_loss: 0.5300 - val_accuracy: 0.7333\n",
            "Epoch 91/200\n",
            "27/27 [==============================] - 0s 3ms/step - loss: 0.5330 - accuracy: 0.7624 - val_loss: 0.5287 - val_accuracy: 0.7333\n",
            "Epoch 92/200\n",
            "27/27 [==============================] - 0s 3ms/step - loss: 0.5187 - accuracy: 0.7660 - val_loss: 0.5276 - val_accuracy: 0.7333\n",
            "Epoch 93/200\n",
            "27/27 [==============================] - 0s 3ms/step - loss: 0.5189 - accuracy: 0.7707 - val_loss: 0.5266 - val_accuracy: 0.7333\n",
            "Epoch 94/200\n",
            "27/27 [==============================] - 0s 3ms/step - loss: 0.5419 - accuracy: 0.7494 - val_loss: 0.5269 - val_accuracy: 0.7333\n",
            "Epoch 95/200\n",
            "27/27 [==============================] - 0s 3ms/step - loss: 0.5342 - accuracy: 0.7411 - val_loss: 0.5272 - val_accuracy: 0.7333\n"
          ],
          "name": "stdout"
        },
        {
          "output_type": "execute_result",
          "data": {
            "text/plain": [
              "<matplotlib.axes._subplots.AxesSubplot at 0x7fbe87306198>"
            ]
          },
          "metadata": {
            "tags": []
          },
          "execution_count": 474
        },
        {
          "output_type": "display_data",
          "data": {
            "image/png": "[encoded data removed]",
            "text/plain": [
              "<Figure size 432x288 with 1 Axes>"
            ]
          },
          "metadata": {
            "tags": [],
            "needs_background": "light"
          }
        },
        {
          "output_type": "display_data",
          "data": {
            "image/png": "[encoded data removed]",
            "text/plain": [
              "<Figure size 432x288 with 1 Axes>"
            ]
          },
          "metadata": {
            "tags": [],
            "needs_background": "light"
          }
        }
      ]
    },
    {
      "cell_type": "markdown",
      "metadata": {
        "id": "OYKktoxM5ugf"
      },
      "source": [
        "#Evaluation Metrix"
      ]
    },
    {
      "cell_type": "code",
      "metadata": {
        "id": "ND5fwVtV5wsD",
        "colab": {
          "base_uri": "https://localhost:8080/",
          "height": 221
        },
        "outputId": "54f366d9-6f30-400b-e0d5-d720893e30b3"
      },
      "source": [
        "from sklearn.metrics import classification_report, confusion_matrix\n",
        "predicted = model.predict_classes(X_test)\n",
        "print(classification_report(y_test,predicted))\n",
        "print('Confusion Matrix: \\n',confusion_matrix(y_test,predicted))"
      ],
      "execution_count": null,
      "outputs": [
        {
          "output_type": "stream",
          "text": [
            "              precision    recall  f1-score   support\n",
            "\n",
            "           0       0.73      0.89      0.80        27\n",
            "           1       0.75      0.50      0.60        18\n",
            "\n",
            "    accuracy                           0.73        45\n",
            "   macro avg       0.74      0.69      0.70        45\n",
            "weighted avg       0.74      0.73      0.72        45\n",
            "\n",
            "Confusion Matrix: \n",
            " [[24  3]\n",
            " [ 9  9]]\n"
          ],
          "name": "stdout"
        }
      ]
    },
    {
      "cell_type": "code",
      "metadata": {
        "id": "OORUSR3r52jS",
        "colab": {
          "base_uri": "https://localhost:8080/",
          "height": 221
        },
        "outputId": "06c58bec-48e7-4962-ba8a-6790559d910e"
      },
      "source": [
        "test_data = df_test\n",
        "\n",
        "print(test_data.shape)\n",
        "\n",
        "test_y = test_data[['PassengerId', 'Survived']]\n",
        "test_X = scaler.transform(test_data.drop(['PassengerId','Survived'],axis=1))\n",
        "prediciton_on_testdata = model.predict_classes(test_X)\n",
        "\n",
        "output = pd.concat([df_test['PassengerId'], pd.DataFrame(prediciton_on_testdata, columns=['Survived'])], axis=1)\n",
        "output.to_csv('submission4.csv', index=False)\n",
        "\n",
        "print(classification_report(test_y.drop('PassengerId',axis=1),prediciton_on_testdata))\n",
        "\n",
        "confusion_matrix(test_y.drop('PassengerId',axis=1),prediciton_on_testdata)\n"
      ],
      "execution_count": null,
      "outputs": [
        {
          "output_type": "stream",
          "text": [
            "(418, 33)\n",
            "              precision    recall  f1-score   support\n",
            "\n",
            "           0       0.81      0.86      0.84       259\n",
            "           1       0.75      0.67      0.71       159\n",
            "\n",
            "    accuracy                           0.79       418\n",
            "   macro avg       0.78      0.77      0.77       418\n",
            "weighted avg       0.79      0.79      0.79       418\n",
            "\n"
          ],
          "name": "stdout"
        },
        {
          "output_type": "execute_result",
          "data": {
            "text/plain": [
              "array([[223,  36],\n",
              "       [ 52, 107]])"
            ]
          },
          "metadata": {
            "tags": []
          },
          "execution_count": 476
        }
      ]
    },
    {
      "cell_type": "code",
      "metadata": {
        "id": "ySt1wiUM63v7",
        "colab": {
          "base_uri": "https://localhost:8080/",
          "height": 34
        },
        "outputId": "f8b78096-8660-49b5-bca5-23b085de7270"
      },
      "source": [
        "225,34,55,104"
      ],
      "execution_count": null,
      "outputs": [
        {
          "output_type": "execute_result",
          "data": {
            "text/plain": [
              "(225, 34, 55, 104)"
            ]
          },
          "metadata": {
            "tags": []
          },
          "execution_count": 477
        }
      ]
    },
    {
      "cell_type": "code",
      "metadata": {
        "id": "2IN-YLy45ftJ"
      },
      "source": [
        ""
      ],
      "execution_count": null,
      "outputs": []
    }
  ]
}